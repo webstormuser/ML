{
  "nbformat": 4,
  "nbformat_minor": 0,
  "metadata": {
    "colab": {
      "provenance": []
    },
    "kernelspec": {
      "name": "python3",
      "display_name": "Python 3"
    },
    "language_info": {
      "name": "python"
    },
    "accelerator": "GPU",
    "gpuClass": "standard"
  },
  "cells": [
    {
      "cell_type": "markdown",
      "source": [
        "1. What are the key tasks involved in getting ready to work with machine learning modeling?\n",
        "ANS :\n",
        "  There are several key tasks involved in preparing for machine learning modeling, including:\n",
        "\n",
        "  * Define the problem: Identify the problem you want to solve using machine learning and determine if it's a suitable problem for machine learning.\n",
        "\n",
        "  * Gather data: Collect and prepare the data that you will use to train your model. This may involve acquiring data from multiple sources, cleaning and pre-processing the data, and transforming the data into a format that can be used for training.\n",
        "\n",
        "  * Choose a model: Select the type of machine learning model that best suits the problem you're trying to solve.\n",
        "\n",
        "  * Train the model: Use the data you have collected to train your machine learning model. This involves feeding the data into the model and adjusting the model's parameters to minimize the error it makes in predicting the outcomes.\n",
        "\n",
        "  * Evaluate the model: Test the accuracy of your model on a set of data it has not seen before. This helps you determine the quality of your model and identify areas for improvement.\n",
        "\n",
        "  * Fine-tune the model: Make changes to the model based on the results of your evaluation to improve its performance.\n",
        "\n",
        "  * Deploy the model: Integrate the trained machine learning model into your application or system and make it available for use.\n",
        "\n",
        "These are the general steps involved in getting ready to work with machine learning modeling, but the specific tasks and the amount of effort required for each step can vary greatly depending on the problem you are trying to solve and the data you are working with."
      ],
      "metadata": {
        "id": "ko0Wt39hY6Oy"
      }
    },
    {
      "cell_type": "markdown",
      "source": [
        "2. What are the different forms of data used in machine learning? Give a specific example for each of them.\n",
        "\n",
        "ANS :There are several forms of data used in machine learning, including:\n",
        "\n",
        "  1.umeric data: This type of data consists of numbers and is used for regression analysis. For example, the height, weight, and age of a person can be considered numeric data.\n",
        "\n",
        "  2.Categorical data: This type of data consists of categories or labels and is used for classification analysis. For example, the color of a fruit (red, green, yellow) can be considered categorical data.\n",
        "\n",
        "  3.Binary data: This type of data consists of binary values (0 or 1) and is also used for classification analysis. For example, a yes/no response to a question can be considered binary data.\n",
        "\n",
        "  4.Time-series data: This type of data consists of data collected over time, such as stock prices over a certain period. It's often used for time series analysis and prediction.\n",
        "\n",
        "  5.Image data: This type of data consists of pixel values that represent an image and is used for image recognition and classification tasks.\n",
        "\n",
        "  6.Audio data: This type of data consists of audio signals and is used for tasks such as speech recognition and classification.\n",
        "\n",
        "  7.Text data: This type of data consists of unstructured text and is used for natural language processing tasks such as sentiment analysis and text classification."
      ],
      "metadata": {
        "id": "17WaaHzRY6Tv"
      }
    },
    {
      "cell_type": "markdown",
      "source": [
        "3. Distinguish:\n",
        "\n",
        "          1. Numeric vs. categorical attributes\n",
        "\n",
        "          2. Feature selection vs. dimensionality reduction\n",
        "\n",
        "ANS :    \n",
        "   Numeric Vs Categorical Attributes:==>\n",
        "   Numeric and categorical are two types of data attributes or variables in a dataset. The distinction between the two types is based on the type of data values they represent:\n",
        "\n",
        "  * Numeric attributes: Also known as quantitative attributes, these variables represent numerical data and can be further categorized into two types: continuous and discrete. Continuous data can take any value within a given range, while discrete data can only take specific values within that range. Examples of continuous data include height, weight, temperature, etc. Examples of discrete data include the number of children in a family, the number of cars a person owns, etc.\n",
        "\n",
        "  * Categorical attributes: Also known as qualitative attributes, these variables represent data values that can be divided into categories. These categories can be nominal, which have no inherent order, or ordinal, which have an inherent order. Examples of nominal data include hair color, eye color, gender, etc. Examples of ordinal data include educational qualifications (high school, bachelors, masters, etc.), star ratings (1 star, 2 star, 3 star, etc.), etc.\n",
        "\n",
        "In statistical analysis, the type of attribute has a significant impact on the type of analysis that can be performed, as well as the choice of statistical models that can be used.\n",
        "\n",
        "-------------------------------------------------------------------------\n",
        "\n",
        "2. Feature selection vs. dimensionality reduction ==>\n",
        "Feature selection and dimensionality reduction are two techniques used in the field of machine learning and data science to pre-process and analyze high-dimensional data. Although both techniques have the goal of reducing the number of features in a data set, they approach this goal in different ways.\n",
        "\n",
        "Feature selection refers to the process of choosing a subset of the most important features from the data set to use in the modeling process. The goal is to select the most informative features that have the strongest relationship with the target variable, while discarding features that are either redundant or have weak relationships. Feature selection can be performed using various statistical methods, such as chi-squared test, correlation-based methods, and recursive feature elimination, among others.\n",
        "\n",
        "Dimensionality reduction, on the other hand, involves transforming the data set into a lower-dimensional space while preserving the most important information contained in the data. This can be achieved through various methods such as principal component analysis (PCA), linear discriminant analysis (LDA), t-distributed stochastic neighbor embedding (t-SNE), and autoencoders, among others. The transformed data will have fewer features compared to the original data set, making it easier to visualize and model.\n",
        "\n",
        "In conclusion, feature selection is a process of selecting the most relevant features to use in a model, while dimensionality reduction is a technique for transforming the data into a lower-dimensional space while preserving the most important information. Both techniques can be used together to obtain better results, and the choice of which technique to use depends on the specific problem and the nature of the data.\n",
        " \n",
        "\n"
      ],
      "metadata": {
        "id": "HdwF9_3vY6YE"
      }
    },
    {
      "cell_type": "markdown",
      "source": [
        "4. Make quick notes on any two of the following:\n",
        "\n",
        "            1. The histogram\n",
        "\n",
        "            2. Use a scatter plot\n",
        "\n",
        "            3.PCA (Personal Computer Aid)\n",
        "\n",
        "ANS :    \n",
        " The histogram : In machine learning, histograms are graphical representations of the distribution of a set of data. They are often used to visualize and understand the underlying distribution of a feature in a dataset. A histogram can reveal the range of values a feature takes, the central tendency of the values, and the shape of the distribution.\n",
        "To create a histogram, you first divide the range of the feature into a set of intervals, or bins. Then, you count the number of occurrences of each value in the feature and plot a bar for each bin that represents the height of the count. The resulting plot gives you an idea of the distribution of the data, which can be useful for feature engineering, outlier detection, and data cleaning.\n",
        "In addition, histograms can also be used to compare the distributions of two or more features in a dataset, or to evaluate the performance of machine learning models. \n",
        "For example, you can use histograms to compare the distribution of the predicted values and the actual values, to check for residuals, or to diagnose bias and variance issues.Overall, histograms are a useful tool in machine learning for visualizing and understanding the data, and can provide valuable insights into the data and the models.\n",
        "\n",
        "-------------------------------------------------------------------------\n",
        "  \n",
        "2: Scatter plot :  A scatter plot is a type of data visualization that uses dots to represent the values for two variables for a set of data. The dots are placed on the plot according to their values for the two variables, with one variable typically plotted on the x-axis and the other on the y-axis. The pattern of the dots on the plot can reveal relationships or correlations between the two variables, such as positive or negative relationships, linear or non-linear relationships, and clusters or outliers. Scatter plots are often used in data analysis and statistics to identify trends and relationships in data, and can be created using software tools such as Excel, R, and Python.\n",
        "\n",
        "------------------------------------------------------------------------\n",
        " 3: Personal computer Aid : -->A personal computer aid is a tool or software program that helps individuals perform various tasks on their personal computers more efficiently and effectively. This can include productivity tools such as word processors, spreadsheet software, or task management apps, as well as specialized software for tasks like photo editing, video production, or programming. Personal computer aids can also include hardware devices such as printers, scanners, or external hard drives that help individuals better use their computers. The goal of a personal computer aid is to make computing tasks easier and more accessible to the average person."
      ],
      "metadata": {
        "id": "_Y7dVHISY6bk"
      }
    },
    {
      "cell_type": "markdown",
      "source": [
        "5. Why is it necessary to investigate data? Is there a discrepancy in how qualitative and quantitative data are explored?\n",
        "\n",
        "ANS :\n",
        "-->Investigating data is necessary to draw meaningful conclusions, make informed decisions, and identify patterns and relationships in data that can inform future actions.\n",
        "\n",
        "-->Yes, there is a discrepancy in how qualitative and quantitative data are explored. Qualitative data are non-numerical data that are typically collected through open-ended questions or unstructured interviews, whereas quantitative data are numerical data that are collected through structured surveys, experiments, or other methods that can be analyzed using statistical methods.\n",
        "\n",
        "--->The exploration of qualitative data often involves the use of interpretive methods such as thematic analysis, content analysis, and discourse analysis, whereas the exploration of quantitative data typically involves the use of statistical methods such as regression analysis, ANOVA, and chi-square tests.\n",
        "\n",
        "-->Each type of data has its own strengths and weaknesses, and the choice of which type of data to use and how to explore it depends on the research question, the type of information being sought, and the resources available. Both qualitative and quantitative data have a role to play in the investigation of data, and often, a combination of both types of data is used to provide a more complete and nuanced understanding of a phenomenon.\n",
        "\n"
      ],
      "metadata": {
        "id": "RDmP0gvfY6fL"
      }
    },
    {
      "cell_type": "markdown",
      "source": [
        "6. What are the various histogram shapes? What exactly are ‘bins'?\n",
        "ANS :A histogram is a graphical representation of the distribution of a dataset. It is an estimate of the probability distribution of a continuous variable.\n",
        "\n",
        "The shapes of histograms can vary, and the most common ones are:\n",
        "\n",
        "  * Normal or Gaussian distribution: This shape is symmetrical, with the peak in the center and the tails tapering off evenly on both sides.\n",
        "\n",
        "  * Skewed distribution: This shape is not symmetrical, with one tail longer than the other. It can be either positively skewed (more data on the right side) or negatively skewed (more data on the left side).\n",
        "\n",
        "  * Bimodal distribution: This shape has two peaks, indicating that the data is divided into two separate groups.\n",
        "\n",
        "  * Uniform distribution: This shape has a flat top, indicating that the data is evenly distributed across the range.\n",
        "\n",
        "\"Bins\" in a histogram are the intervals into which the data range is divided. Each bin represents a range of values, and the height of each bar in the histogram represents the number of data points that fall within that range. The choice of the number of bins and the size of the bins can affect the shape of the histogram, so it's important to choose them carefully"
      ],
      "metadata": {
        "id": "4_-oqt_8Y6ij"
      }
    },
    {
      "cell_type": "markdown",
      "source": [
        "7. How do we deal with data outliers?\n",
        "\n",
        "ANS ::\n",
        " Dealing with data outliers depends on the nature of the data, the purpose of the analysis, and the impact of the outliers on the results. Some common methods to deal with outliers include:\n",
        "\n",
        "  Removing outliers: This is a straightforward approach, but it should be used with caution. If the outliers are genuine observations, removing them may result in the loss of valuable information.\n",
        "\n",
        "  Winsorizing: This method replaces outliers with the closest non-outlier value. For example, if a data set has outliers above the 95th percentile, those values may be replaced with the 95th percentile value.\n",
        "\n",
        "  Trimming: This method removes a certain percentage of outliers from the data set. For example, the 5% lowest and highest values may be removed.\n",
        "\n",
        "  Log Transformation: Log transformation can be used to reduce the impact of outliers in skewed data distributions.\n",
        "\n",
        "  Impute Outliers: One can impute the outliers with a suitable statistic such as median, mean or mode.\n",
        "\n",
        "It's important to choose the right method based on the data and the goals of the analysis. In some cases, it may be necessary to use multiple methods or a combination of methods to effectively deal with outliers."
      ],
      "metadata": {
        "id": "obtCDRBYY6mH"
      }
    },
    {
      "cell_type": "markdown",
      "source": [
        "8. What are the various central inclination measures? Why does mean vary too much from median in certain data sets?\n",
        "ANS :There are several measures of central tendency or central location in statistics. These measures attempt to describe the central or typical value in a dataset. Some of the most common measures of central tendency include:\n",
        "\n",
        "  ->Mean: It is the average of all the values in a dataset. It is calculated by summing up all the values in the dataset and dividing by the number of values.\n",
        "\n",
        "  ->Median: It is the middle value in a dataset when the values are arranged in order. If there are an odd number of values, the median is the middle value. If there are an even number of values, the median is the average of the two middle values.\n",
        "\n",
        "  ->Mode: It is the value that occurs most frequently in a dataset. A dataset can have one mode, multiple modes, or no mode at all.\n",
        "\n",
        "  ->Geometric Mean: It is a type of mean calculated for set of numbers with non-negative values. It is the nth root of the product of n values.\n",
        "\n",
        "  ->Harmonic Mean: It is a type of mean calculated for set of numbers with positive values. It is the reciprocal of the average of the reciprocals of the values.\n",
        "\n",
        "The mean and median can vary greatly in certain datasets due to the presence of outliers, or values that are significantly higher or lower than the other values in the dataset. If the dataset contains a few outliers, the mean will be pulled away from the typical values and towards the outliers, making it a less representative measure of central tendency. On the other hand, the median is less affected by outliers and provides a better representation of the typical value in the dataset."
      ],
      "metadata": {
        "id": "pGwJeHPRY6pM"
      }
    },
    {
      "cell_type": "markdown",
      "source": [
        "9. Describe how a scatter plot can be used to investigate bivariate relationships. Is it possible to find outliers using a scatter plot?\n",
        "\n",
        "ANS ::A scatter plot is a graph that plots the values of two variables on a two-dimensional coordinate plane. It is commonly used to investigate bivariate relationships, which are relationships between two variables. In a scatter plot, each data point is represented by a marker that is placed at the location determined by the values of the two variables being plotted. The position of the markers on the plot provides visual information about the relationship between the variables.\n",
        "\n",
        "A scatter plot can be used to investigate the presence of a relationship between two variables and the strength of that relationship. For example, if there is a positive relationship between two variables, the markers on the plot will tend to fall along a line that slopes upwards from left to right. If there is a negative relationship between two variables, the markers will tend to fall along a line that slopes downwards from left to right. The scatter plot can also be used to determine whether the relationship between the variables is linear or non-linear.\n",
        "\n",
        "Yes, it is possible to find outliers using a scatter plot. Outliers are data points that are significantly different from the other points in the data set. In a scatter plot, outliers are easily recognizable because they are located far away from the majority of the other data points. Outliers can indicate an error in the data or a difference in the population being studied, and they can have a significant impact on the results of any statistical analyses performed on the data."
      ],
      "metadata": {
        "id": "YdUunphsY6r9"
      }
    },
    {
      "cell_type": "markdown",
      "source": [
        "\n",
        "10. Describe how cross-tabs can be used to figure out how two variables are related.\n",
        "\n",
        "ANS ::Cross-tabs, also known as contingency tables or cross-tabulations, are a way to examine the relationship between two variables. Cross-tabs display the distribution of one variable by the categories of another variable, and are often used to identify patterns and relationships between the two variables.\n",
        "\n",
        "For example, suppose you have data on the age and gender of a sample of people. A cross-tab of this data would show the number or percentage of people in each age group who are male or female. This would allow you to see if there is any relationship between age and gender in the sample, such as if one gender is over-represented in a particular age group.\n",
        "\n",
        "Cross-tabs can also be used to compare the distribution of a variable across different categories of another variable. For example, you could use a cross-tab to compare the distribution of political views among different age groups. This would allow you to see if there is any relationship between age and political views, such as if people in one age group are more likely to hold a particular political view.\n",
        "\n",
        "In addition, cross-tabs can be used to test hypotheses about the relationship between two variables. For example, you could use a cross-tab to test the hypothesis that there is no relationship between age and political views by comparing the observed cross-tab to what would be expected if the two variables were independent.\n",
        "\n",
        "Overall, cross-tabs are a powerful tool for exploring and understanding relationships between two variables, and can provide valuable insights into the data you are analyzing."
      ],
      "metadata": {
        "id": "4RASewMQY6vS"
      }
    },
    {
      "cell_type": "markdown",
      "source": [],
      "metadata": {
        "id": "TXM6uCk2Y6yS"
      }
    },
    {
      "cell_type": "markdown",
      "source": [],
      "metadata": {
        "id": "n6jA-ZMQY61L"
      }
    },
    {
      "cell_type": "markdown",
      "source": [],
      "metadata": {
        "id": "fvELFCvzY64G"
      }
    },
    {
      "cell_type": "markdown",
      "source": [],
      "metadata": {
        "id": "C0LXW3LTY660"
      }
    }
  ]
}