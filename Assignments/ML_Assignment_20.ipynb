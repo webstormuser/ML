{
  "nbformat": 4,
  "nbformat_minor": 0,
  "metadata": {
    "colab": {
      "provenance": []
    },
    "kernelspec": {
      "name": "python3",
      "display_name": "Python 3"
    },
    "language_info": {
      "name": "python"
    }
  },
  "cells": [
    {
      "cell_type": "markdown",
      "source": [
        "# Q 1. What is the underlying concept of Support Vector Machines?"
      ],
      "metadata": {
        "id": "l-ctLp3i3_FV"
      }
    },
    {
      "cell_type": "markdown",
      "source": [
        "ANS:The underlying concept of Support Vector Machines (SVM) is to find an optimal hyperplane that best separates data points belonging to different classes in a given dataset. SVM is a supervised machine learning algorithm used mainly for classification tasks, but it can also be adapted for regression tasks.\n",
        "\n",
        "The main idea behind SVM is to identify the hyperplane that maximizes the margin between the two closest data points from different classes, known as support vectors. The margin is the distance between the hyperplane and the support vectors, and the goal is to find the hyperplane that maximizes this margin. This is often referred to as the \"maximum margin hyperplane.\"\n",
        "\n",
        "The basic concept can be understood as follows:\n",
        "\n",
        "1. Data Representation: In an SVM, each data point in the dataset is represented as a feature vector in an n-dimensional space, where n is the number of features (attributes) in the data.\n",
        "\n",
        "2. Class Separation: Given a dataset with two or more classes, SVM aims to find the hyperplane that best separates the data points belonging to different classes. For a binary classification problem (two classes), the hyperplane is a straight line (in 2D) or a hyperplane (in higher dimensions). For multi-class classification, SVM can use one-vs-all or one-vs-one approaches to classify data points into multiple classes.\n",
        "\n",
        "3. Margin Maximization: SVM searches for the hyperplane that maximizes the margin between the classes. The margin is the distance between the hyperplane and the closest data points from different classes (support vectors). SVM aims to find the hyperplane that separates the support vectors with the maximum margin.\n",
        "\n",
        "4. Soft Margin and Kernel Trick: In real-world scenarios, it may not always be possible to find a hyperplane that perfectly separates the data. In such cases, SVM introduces the concept of a soft margin that allows for some misclassification (or slack) of data points. Additionally, the kernel trick is used to handle non-linearly separable data by transforming the original feature space into a higher-dimensional space, where the data points become linearly separable.\n",
        "\n",
        "5. Optimization: The process of finding the optimal hyperplane involves solving a constrained optimization problem, where the objective is to maximize the margin while minimizing the classification errors (misclassifications).\n",
        "\n",
        "By finding the optimal hyperplane, SVM can effectively classify new, unseen data points into the correct classes based on their position relative to the hyperplane and the support vectors. SVM is known for its ability to handle high-dimensional data, non-linear separation, and robust generalization on unseen data, making it a powerful and widely used classification algorithm in various domains."
      ],
      "metadata": {
        "id": "6hA_FRyZ4Bti"
      }
    },
    {
      "cell_type": "markdown",
      "source": [
        "# Q 2. What is the concept of a support vector?"
      ],
      "metadata": {
        "id": "nKHuBIxK5Er6"
      }
    },
    {
      "cell_type": "markdown",
      "source": [
        "![support-vector-machine-algorithm[1].png](data:image/png;base64,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)"
      ],
      "metadata": {
        "id": "xWmrIyVF7T5h"
      }
    },
    {
      "cell_type": "markdown",
      "source": [
        "Support Vector Machine or SVM is one of the most popular Supervised Learning algorithms, which is used for Classification as well as Regression problems. However, primarily, it is used for Classification problems in Machine Learning.\n",
        "\n",
        "The goal of the SVM algorithm is to create the best line or decision boundary that can segregate n-dimensional space into classes so that we can easily put the new data point in the correct category in the future. This best decision boundary is called a hyperplane.\n",
        "\n",
        "SVM chooses the extreme points/vectors that help in creating the hyperplane. These extreme cases are called as support vectors, and hence algorithm is termed as Support Vector Machine. Consider the below diagram in which there are two different categories that are classified using a decision boundary or hyperplane:"
      ],
      "metadata": {
        "id": "-9x-67qB7rzb"
      }
    },
    {
      "cell_type": "markdown",
      "source": [
        "# Q 3. When using SVMs, why is it necessary to scale the inputs?"
      ],
      "metadata": {
        "id": "Y9QzdtA17x53"
      }
    },
    {
      "cell_type": "markdown",
      "source": [
        "ANS:When using Support Vector Machines (SVMs) or many other machine learning algorithms, it is often necessary to scale the inputs (features) for the following reasons:\n",
        "\n",
        "1. **Impact of Feature Scales on the Decision Boundary:** SVM aims to find the optimal hyperplane that best separates the data points from different classes. The position and orientation of the decision boundary (hyperplane) are influenced by the scales of the input features. Features with larger scales may dominate the optimization process and have a greater impact on the decision boundary, potentially overshadowing the influence of features with smaller scales. Scaling the features helps to ensure that all features have equal weight in determining the decision boundary.\n",
        "\n",
        "2. **Convergence of Optimization:** SVM involves solving an optimization problem to find the optimal hyperplane. When the input features have different scales, the optimization process can be slower or may not converge properly. Scaling the features can help the optimization algorithm to converge faster and more reliably.\n",
        "\n",
        "3. **Numerical Stability:** Large differences in feature scales can lead to numerical instability in the optimization process. This can result in issues like overflow or underflow of numerical values during calculations. Scaling the features improves numerical stability.\n",
        "\n",
        "4. **Kernel Functions:** In SVM, the kernel trick is often used to handle non-linearly separable data. Kernel functions, such as the radial basis function (RBF) kernel, measure the similarity between data points in a higher-dimensional space. The effectiveness of kernel functions depends on the distances between data points, which can be affected by feature scales. Scaling the features ensures that the kernel functions work properly and deliver accurate results.\n",
        "\n",
        "5. **Regularization:** SVM uses regularization to control the trade-off between maximizing the margin and minimizing classification errors. Regularization terms are applied to the feature weights during optimization. If the features have different scales, the regularization terms may bias the model toward features with larger scales. Scaling helps in balancing the regularization effect across all features.\n",
        "\n",
        "Common techniques for scaling features in SVM include normalization (scaling to a common range, e.g., [0, 1]) or standardization (scaling to have a mean of 0 and a standard deviation of 1). The choice of scaling method may depend on the specific characteristics of the data and the SVM variant being used.\n",
        "\n",
        "In summary, scaling the inputs in SVM is necessary to ensure fair treatment of all features, improve the optimization process, enhance numerical stability, and enable effective use of kernel functions, leading to a more accurate and reliable classifier."
      ],
      "metadata": {
        "id": "l791m9qJ7zHg"
      }
    },
    {
      "cell_type": "markdown",
      "source": [
        "ANSYes, an SVM classifier can provide a confidence score or a percentage chance for its classification decisions, but it depends on the variant of SVM being used and the specific implementation.\n",
        "\n",
        "1. **Confidence Score:** In some SVM implementations, particularly those that support probabilistic outputs, you can obtain a confidence score that represents how certain the classifier is about its classification decision. The confidence score typically ranges between 0 and 1, where 0 indicates low confidence (uncertain) and 1 indicates high confidence (certain). Higher confidence scores indicate that the classifier is more confident in its prediction.\n",
        "\n",
        "2. **Probability Estimates:** Some SVM libraries or variants, such as the `SVC` class in scikit-learn, offer the option to enable probability estimates. When enabled, the classifier can provide probability estimates for each class label. These probabilities indicate the likelihood that a data point belongs to a particular class. Probability estimates are represented as percentages, where the sum of probabilities for all classes is 100%.\n",
        "\n",
        "However, it's essential to note that not all SVM classifiers provide confidence scores or probability estimates by default. The traditional SVM formulation is inherently binary and only provides discrete class labels (e.g., -1 and 1), making it difficult to obtain probability estimates directly.\n",
        "\n",
        "To enable probability estimates in scikit-learn's SVM implementation, you can set the `probability` parameter to `True` when creating the `SVC` instance:\n",
        "\n",
        "```python\n",
        "from sklearn.svm import SVC\n",
        "\n",
        "# Create SVM classifier with probability estimates enabled\n",
        "svm_classifier = SVC(probability=True)\n",
        "\n",
        "# Train the classifier on your data\n",
        "svm_classifier.fit(X_train, y_train)\n",
        "\n",
        "# Get confidence scores or probability estimates for predictions\n",
        "confidence_scores = svm_classifier.predict_proba(X_test)\n",
        "```\n",
        "\n",
        "Keep in mind that enabling probability estimates may increase the computational cost during training. If probability estimates are not essential for your application, you can still use the traditional SVM classifier to obtain class labels directly.\n",
        "\n",
        "When working with SVM classifiers, it's crucial to consider the specific implementation details of the SVM variant being used and check the documentation to see if it supports confidence scores or probability estimates."
      ],
      "metadata": {
        "id": "CxwBESCh8H1l"
      }
    },
    {
      "cell_type": "markdown",
      "source": [
        "ANS:When dealing with a training set with millions of instances and hundreds of features, it is generally more practical and computationally efficient to use the dual form of the SVM problem. The dual form is particularly advantageous when the number of data points (instances) is much larger than the number of features.\n",
        "\n",
        "Here's why the dual form is preferred in such cases:\n",
        "\n",
        "1. **Computational Efficiency:** The primal form of the SVM problem involves solving an optimization problem with respect to the number of features, which can be computationally expensive when the number of features is large. In contrast, the dual form involves solving an optimization problem with respect to the number of data points, which is more computationally efficient when the number of data points is much larger than the number of features.\n",
        "\n",
        "2. **Kernel Trick and Non-Linear Separability:** The dual form naturally accommodates the use of the kernel trick, allowing SVM to handle non-linearly separable data. The kernel trick implicitly maps the data to a higher-dimensional space, where linear separation is possible. In this context, the dual form is more advantageous because it primarily involves inner products between data points, which can be efficiently computed using the kernel function.\n",
        "\n",
        "3. **Memory Efficiency:** The dual form typically requires storing the Gram matrix, which represents the inner products between all pairs of data points. However, in practice, the Gram matrix can be computed on the fly without explicitly storing it, making the approach more memory-efficient compared to the primal form when dealing with large datasets.\n",
        "\n",
        "4. **Large Margin Classification:** In many practical scenarios, SVM is used for large margin classification, and the dual form inherently provides a solution in terms of support vectors, which are the data points that lie on the margins or are misclassified. The dual form allows the identification of support vectors without explicitly finding the separating hyperplane.\n",
        "\n",
        "5. **Numerical Stability:** The dual form of SVM tends to be more numerically stable than the primal form, especially when dealing with datasets with collinear or nearly collinear features.\n",
        "\n",
        "In summary, when working with large datasets with millions of instances and hundreds of features, it is generally more practical to use the dual form of the SVM problem. It offers computational efficiency, memory efficiency, and better handling of non-linearly separable data through the kernel trick."
      ],
      "metadata": {
        "id": "9ak2SneI8dyJ"
      }
    },
    {
      "cell_type": "markdown",
      "source": [
        "#Q 6.  Let&#39;s say you&#39;ve used an RBF kernel to train an SVM classifier, but it appears to underfit the training collection. Is it better to raise or lower (gamma)? What about the letter C?"
      ],
      "metadata": {
        "id": "yJ46w5G2-jKw"
      }
    },
    {
      "cell_type": "markdown",
      "source": [
        "ANS:When an SVM classifier with an RBF (Radial Basis Function) kernel underfits the training data, you can try adjusting the hyperparameters gamma (γ) and C to improve the model's performance. Both gamma and C have significant impacts on the SVM's decision boundary, and the choice of appropriate values depends on the specific characteristics of the data.\n",
        "\n",
        "1. **Gamma (γ):** Gamma controls the influence of each individual data point on the decision boundary. A small gamma value makes the decision boundary more rigid, resulting in a large number of support vectors. On the other hand, a large gamma value makes the decision boundary more flexible and may lead to overfitting by creating a complex, wiggly decision boundary that closely follows the training data points. In your case, since the model is underfitting, you should try raising the gamma value to increase the flexibility of the decision boundary.\n",
        "\n",
        "2. **C:** C is the regularization parameter that controls the trade-off between maximizing the margin and minimizing the classification errors (misclassifications) on the training data. A small C value imposes a large margin but allows more misclassifications on the training data (more tolerant to misclassifications). A large C value, on the other hand, results in a smaller margin but tries to minimize misclassifications on the training data (less tolerant to misclassifications). If your RBF kernel SVM underfits, you can try lowering the C value to allow for a larger margin and make the model more tolerant to misclassifications.\n",
        "\n",
        "In summary, to address underfitting in an SVM classifier with an RBF kernel:\n",
        "\n",
        "1. Increase the gamma value to make the decision boundary more flexible and better fit the training data.\n",
        "2. Lower the C value to allow for a larger margin and make the model more tolerant to misclassifications on the training data.\n",
        "\n",
        "Remember that finding the optimal hyperparameters requires experimentation and tuning. It is crucial to perform cross-validation to evaluate different combinations of hyperparameters and select the ones that result in the best performance on unseen data (test data or validation data). Keep in mind that hyperparameter tuning is an essential part of getting the best possible performance from any machine learning model, including SVM with RBF kernel."
      ],
      "metadata": {
        "id": "xVeDfXiGBXRC"
      }
    },
    {
      "cell_type": "markdown",
      "source": [
        "#Q 7. To solve the soft margin linear SVM classifier problem with an off-the-shelf QP solver, how should the QP parameters (H, f, A, and b) be set?"
      ],
      "metadata": {
        "id": "z_nSD-xCC6iI"
      }
    },
    {
      "cell_type": "markdown",
      "source": [
        "ANS:To solve the soft margin linear SVM classifier problem using an off-the-shelf Quadratic Programming (QP) solver, you need to set the QP parameters (H, f, A, and b) based on the formulation of the soft margin SVM problem. Here's how each parameter should be set:\n",
        "\n",
        "1. **Objective Matrix (H):** The objective matrix H is a positive definite matrix that represents the quadratic term in the SVM optimization problem. For the soft margin linear SVM, H is usually a matrix of size (n_features + n_samples) x (n_features + n_samples), where n_features is the number of features (columns) in your training data, and n_samples is the number of training samples (rows). The matrix H is typically a diagonal matrix with the first n_features diagonal elements set to 0 (representing the regularization term) and the next n_samples diagonal elements set to the value of the regularization parameter C (the penalty for misclassifications). The rest of the elements are zeros.\n",
        "\n",
        "2. **Linear Term (f):** The linear term f is a vector of size (n_features + n_samples) x 1 that represents the linear term in the SVM optimization problem. The first n_features elements of f are all zeros, and the next n_samples elements are set to -1 (representing the misclassification penalty). The rest of the elements are zeros.\n",
        "\n",
        "3. **Equality Constraints Matrix (A):** The equality constraints matrix A is a matrix of size n_samples x (n_features + n_samples). It represents the constraints on the data points to ensure that the correct class predictions are satisfied. For soft margin SVM, A is usually constructed such that it enforces that the predicted class for each sample is greater than or equal to 1 when the sample is correctly classified and less than or equal to -1 when the sample is misclassified. The first n_features columns of A are the feature vectors of the data points, and the next n_samples columns are an identity matrix of size n_samples x n_samples.\n",
        "\n",
        "4. **Equality Constraints Vector (b):** The equality constraints vector b is a vector of size n_samples x 1 that represents the right-hand side of the equality constraints. It is set to a vector of all 1's to enforce the constraints that each data point is correctly classified as class 1.\n",
        "\n",
        "Once you have set up these QP parameters (H, f, A, and b) according to the SVM formulation, you can pass them to the off-the-shelf QP solver to find the optimal solution, which gives you the coefficients (weights) for the linear SVM classifier.\n",
        "\n",
        "Keep in mind that the specific implementation of the QP solver and the SVM formulation may vary depending on the library or tool you are using. It is essential to refer to the documentation of the specific QP solver and SVM implementation you are working with to ensure the correct setup of QP parameters for soft margin linear SVM."
      ],
      "metadata": {
        "id": "q9pucnRlDFAq"
      }
    },
    {
      "cell_type": "markdown",
      "source": [
        "# Q 8. On a linearly separable dataset, train a LinearSVC. Then, using the same dataset, train an SVC and an SGDClassifier. See if you can get them to make a model that is similar to yours."
      ],
      "metadata": {
        "id": "SfunfyZbFwfg"
      }
    },
    {
      "cell_type": "code",
      "source": [
        "# Step 1: Import the necessary libraries\n",
        "import numpy as np\n",
        "import pandas as pd\n",
        "from sklearn.datasets import load_iris\n",
        "from sklearn.model_selection import train_test_split\n",
        "from sklearn.svm import LinearSVC\n",
        "from sklearn.metrics import accuracy_score, classification_report, confusion_matrix"
      ],
      "metadata": {
        "id": "HIZfw69p7vDT"
      },
      "execution_count": null,
      "outputs": []
    },
    {
      "cell_type": "code",
      "source": [
        "data =load_iris()"
      ],
      "metadata": {
        "id": "kzRZRr7kGOIQ"
      },
      "execution_count": null,
      "outputs": []
    },
    {
      "cell_type": "code",
      "source": [
        "data.keys()"
      ],
      "metadata": {
        "colab": {
          "base_uri": "https://localhost:8080/"
        },
        "id": "BIQdos4KGUuY",
        "outputId": "6976f4c1-f992-44a6-82b1-69e481ee5e0c"
      },
      "execution_count": null,
      "outputs": [
        {
          "output_type": "execute_result",
          "data": {
            "text/plain": [
              "dict_keys(['data', 'target', 'frame', 'target_names', 'DESCR', 'feature_names', 'filename', 'data_module'])"
            ]
          },
          "metadata": {},
          "execution_count": 3
        }
      ]
    },
    {
      "cell_type": "code",
      "source": [
        "X=data.data"
      ],
      "metadata": {
        "id": "VLfjxmm1GXmK"
      },
      "execution_count": null,
      "outputs": []
    },
    {
      "cell_type": "code",
      "source": [
        "X.shape"
      ],
      "metadata": {
        "colab": {
          "base_uri": "https://localhost:8080/"
        },
        "id": "ncAqB_wrGicv",
        "outputId": "ba7d9934-c882-4be2-8735-5ea0ef76258c"
      },
      "execution_count": null,
      "outputs": [
        {
          "output_type": "execute_result",
          "data": {
            "text/plain": [
              "(150, 4)"
            ]
          },
          "metadata": {},
          "execution_count": 5
        }
      ]
    },
    {
      "cell_type": "code",
      "source": [
        "y=data.target"
      ],
      "metadata": {
        "id": "4Dx78fQHGkO3"
      },
      "execution_count": null,
      "outputs": []
    },
    {
      "cell_type": "code",
      "source": [
        "y"
      ],
      "metadata": {
        "colab": {
          "base_uri": "https://localhost:8080/"
        },
        "id": "2nb9RYiJHA-b",
        "outputId": "19be836e-11d9-4da9-a6bc-696cd43637d5"
      },
      "execution_count": null,
      "outputs": [
        {
          "output_type": "execute_result",
          "data": {
            "text/plain": [
              "array([0, 0, 0, 0, 0, 0, 0, 0, 0, 0, 0, 0, 0, 0, 0, 0, 0, 0, 0, 0, 0, 0,\n",
              "       0, 0, 0, 0, 0, 0, 0, 0, 0, 0, 0, 0, 0, 0, 0, 0, 0, 0, 0, 0, 0, 0,\n",
              "       0, 0, 0, 0, 0, 0, 1, 1, 1, 1, 1, 1, 1, 1, 1, 1, 1, 1, 1, 1, 1, 1,\n",
              "       1, 1, 1, 1, 1, 1, 1, 1, 1, 1, 1, 1, 1, 1, 1, 1, 1, 1, 1, 1, 1, 1,\n",
              "       1, 1, 1, 1, 1, 1, 1, 1, 1, 1, 1, 1, 2, 2, 2, 2, 2, 2, 2, 2, 2, 2,\n",
              "       2, 2, 2, 2, 2, 2, 2, 2, 2, 2, 2, 2, 2, 2, 2, 2, 2, 2, 2, 2, 2, 2,\n",
              "       2, 2, 2, 2, 2, 2, 2, 2, 2, 2, 2, 2, 2, 2, 2, 2, 2, 2])"
            ]
          },
          "metadata": {},
          "execution_count": 7
        }
      ]
    },
    {
      "cell_type": "code",
      "source": [
        "y.shape"
      ],
      "metadata": {
        "colab": {
          "base_uri": "https://localhost:8080/"
        },
        "id": "-9QLo0bRGoPY",
        "outputId": "a263e9ef-dab9-444e-d418-d150f409bc7b"
      },
      "execution_count": null,
      "outputs": [
        {
          "output_type": "execute_result",
          "data": {
            "text/plain": [
              "(150,)"
            ]
          },
          "metadata": {},
          "execution_count": 8
        }
      ]
    },
    {
      "cell_type": "code",
      "source": [
        "# Create a scatter plot for the target variable\n",
        "import matplotlib.pyplot as plt\n",
        "# Count the occurrences of each class in the target variable\n",
        "class_counts = np.bincount(y)\n",
        "class_labels = data.target_names\n",
        "\n",
        "# Alternatively, you can create a pie chart to show the distribution\n",
        "plt.pie(class_counts, labels=class_labels, autopct='%1.1f%%', startangle=140)\n",
        "plt.axis('equal')  # Equal aspect ratio ensures that pie is drawn as a circle.\n",
        "plt.title('Distribution of Target Variable (Iris Dataset)')\n",
        "plt.show()"
      ],
      "metadata": {
        "colab": {
          "base_uri": "https://localhost:8080/",
          "height": 428
        },
        "id": "1asLhPpXHST_",
        "outputId": "1af29e5d-8289-463f-9a9f-741a58cffeb8"
      },
      "execution_count": null,
      "outputs": [
        {
          "output_type": "display_data",
          "data": {
            "text/plain": [
              "<Figure size 640x480 with 1 Axes>"
            ],
            "image/png": "[encoded data removed]"
          },
          "metadata": {}
        }
      ]
    },
    {
      "cell_type": "code",
      "source": [
        "# Step 4: Split the data into training and testing sets\n",
        "X_train, X_test, y_train, y_test = train_test_split(X, y, test_size=0.2, random_state=42)"
      ],
      "metadata": {
        "id": "MbBzb_V_Gpxg"
      },
      "execution_count": null,
      "outputs": []
    },
    {
      "cell_type": "code",
      "source": [
        "# Step 5: Create and train the Linear SVC model with increased max_iter\n",
        "model = LinearSVC(max_iter=10000)  # You can set a higher value for max_iter, e.g., 10000\n",
        "model.fit(X_train, y_train)"
      ],
      "metadata": {
        "colab": {
          "base_uri": "https://localhost:8080/",
          "height": 75
        },
        "id": "xOMy8uxLGt9w",
        "outputId": "be406920-d10e-42fa-d1bb-8d06e87cadc8"
      },
      "execution_count": null,
      "outputs": [
        {
          "output_type": "execute_result",
          "data": {
            "text/plain": [
              "LinearSVC(max_iter=10000)"
            ],
            "text/html": [
              "<style>#sk-container-id-1 {color: black;background-color: white;}#sk-container-id-1 pre{padding: 0;}#sk-container-id-1 div.sk-toggleable {background-color: white;}#sk-container-id-1 label.sk-toggleable__label {cursor: pointer;display: block;width: 100%;margin-bottom: 0;padding: 0.3em;box-sizing: border-box;text-align: center;}#sk-container-id-1 label.sk-toggleable__label-arrow:before {content: \"▸\";float: left;margin-right: 0.25em;color: #696969;}#sk-container-id-1 label.sk-toggleable__label-arrow:hover:before {color: black;}#sk-container-id-1 div.sk-estimator:hover label.sk-toggleable__label-arrow:before {color: black;}#sk-container-id-1 div.sk-toggleable__content {max-height: 0;max-width: 0;overflow: hidden;text-align: left;background-color: #f0f8ff;}#sk-container-id-1 div.sk-toggleable__content pre {margin: 0.2em;color: black;border-radius: 0.25em;background-color: #f0f8ff;}#sk-container-id-1 input.sk-toggleable__control:checked~div.sk-toggleable__content {max-height: 200px;max-width: 100%;overflow: auto;}#sk-container-id-1 input.sk-toggleable__control:checked~label.sk-toggleable__label-arrow:before {content: \"▾\";}#sk-container-id-1 div.sk-estimator input.sk-toggleable__control:checked~label.sk-toggleable__label {background-color: #d4ebff;}#sk-container-id-1 div.sk-label input.sk-toggleable__control:checked~label.sk-toggleable__label {background-color: #d4ebff;}#sk-container-id-1 input.sk-hidden--visually {border: 0;clip: rect(1px 1px 1px 1px);clip: rect(1px, 1px, 1px, 1px);height: 1px;margin: -1px;overflow: hidden;padding: 0;position: absolute;width: 1px;}#sk-container-id-1 div.sk-estimator {font-family: monospace;background-color: #f0f8ff;border: 1px dotted black;border-radius: 0.25em;box-sizing: border-box;margin-bottom: 0.5em;}#sk-container-id-1 div.sk-estimator:hover {background-color: #d4ebff;}#sk-container-id-1 div.sk-parallel-item::after {content: \"\";width: 100%;border-bottom: 1px solid gray;flex-grow: 1;}#sk-container-id-1 div.sk-label:hover label.sk-toggleable__label {background-color: #d4ebff;}#sk-container-id-1 div.sk-serial::before {content: \"\";position: absolute;border-left: 1px solid gray;box-sizing: border-box;top: 0;bottom: 0;left: 50%;z-index: 0;}#sk-container-id-1 div.sk-serial {display: flex;flex-direction: column;align-items: center;background-color: white;padding-right: 0.2em;padding-left: 0.2em;position: relative;}#sk-container-id-1 div.sk-item {position: relative;z-index: 1;}#sk-container-id-1 div.sk-parallel {display: flex;align-items: stretch;justify-content: center;background-color: white;position: relative;}#sk-container-id-1 div.sk-item::before, #sk-container-id-1 div.sk-parallel-item::before {content: \"\";position: absolute;border-left: 1px solid gray;box-sizing: border-box;top: 0;bottom: 0;left: 50%;z-index: -1;}#sk-container-id-1 div.sk-parallel-item {display: flex;flex-direction: column;z-index: 1;position: relative;background-color: white;}#sk-container-id-1 div.sk-parallel-item:first-child::after {align-self: flex-end;width: 50%;}#sk-container-id-1 div.sk-parallel-item:last-child::after {align-self: flex-start;width: 50%;}#sk-container-id-1 div.sk-parallel-item:only-child::after {width: 0;}#sk-container-id-1 div.sk-dashed-wrapped {border: 1px dashed gray;margin: 0 0.4em 0.5em 0.4em;box-sizing: border-box;padding-bottom: 0.4em;background-color: white;}#sk-container-id-1 div.sk-label label {font-family: monospace;font-weight: bold;display: inline-block;line-height: 1.2em;}#sk-container-id-1 div.sk-label-container {text-align: center;}#sk-container-id-1 div.sk-container {/* jupyter's `normalize.less` sets `[hidden] { display: none; }` but bootstrap.min.css set `[hidden] { display: none !important; }` so we also need the `!important` here to be able to override the default hidden behavior on the sphinx rendered scikit-learn.org. See: https://github.com/scikit-learn/scikit-learn/issues/21755 */display: inline-block !important;position: relative;}#sk-container-id-1 div.sk-text-repr-fallback {display: none;}</style><div id=\"sk-container-id-1\" class=\"sk-top-container\"><div class=\"sk-text-repr-fallback\"><pre>LinearSVC(max_iter=10000)</pre><b>In a Jupyter environment, please rerun this cell to show the HTML representation or trust the notebook. <br />On GitHub, the HTML representation is unable to render, please try loading this page with nbviewer.org.</b></div><div class=\"sk-container\" hidden><div class=\"sk-item\"><div class=\"sk-estimator sk-toggleable\"><input class=\"sk-toggleable__control sk-hidden--visually\" id=\"sk-estimator-id-1\" type=\"checkbox\" checked><label for=\"sk-estimator-id-1\" class=\"sk-toggleable__label sk-toggleable__label-arrow\">LinearSVC</label><div class=\"sk-toggleable__content\"><pre>LinearSVC(max_iter=10000)</pre></div></div></div></div></div>"
            ]
          },
          "metadata": {},
          "execution_count": 14
        }
      ]
    },
    {
      "cell_type": "code",
      "source": [
        "# Step 6: Evaluate the model's performance\n",
        "y_pred = model.predict(X_test)\n",
        "accuracy = accuracy_score(y_test, y_pred)\n",
        "print(\"Accuracy:\", accuracy)"
      ],
      "metadata": {
        "colab": {
          "base_uri": "https://localhost:8080/"
        },
        "id": "zpabgVZ2Gw5e",
        "outputId": "28509951-f784-43aa-c540-f43a64586bd3"
      },
      "execution_count": null,
      "outputs": [
        {
          "output_type": "stream",
          "name": "stdout",
          "text": [
            "Accuracy: 1.0\n"
          ]
        }
      ]
    },
    {
      "cell_type": "code",
      "source": [
        "# You can also check other performance metrics like classification report and confusion matrix\n",
        "print(\"\\nClassification Report:\")\n",
        "print(classification_report(y_test, y_pred))\n",
        "\n",
        "print(\"\\nConfusion Matrix:\")\n",
        "print(confusion_matrix(y_test, y_pred))"
      ],
      "metadata": {
        "colab": {
          "base_uri": "https://localhost:8080/"
        },
        "id": "poRowNwuIYVA",
        "outputId": "35f59ef3-3b3b-4e17-857c-6a4c3f787f28"
      },
      "execution_count": null,
      "outputs": [
        {
          "output_type": "stream",
          "name": "stdout",
          "text": [
            "\n",
            "Classification Report:\n",
            "              precision    recall  f1-score   support\n",
            "\n",
            "           0       1.00      1.00      1.00        10\n",
            "           1       1.00      1.00      1.00         9\n",
            "           2       1.00      1.00      1.00        11\n",
            "\n",
            "    accuracy                           1.00        30\n",
            "   macro avg       1.00      1.00      1.00        30\n",
            "weighted avg       1.00      1.00      1.00        30\n",
            "\n",
            "\n",
            "Confusion Matrix:\n",
            "[[10  0  0]\n",
            " [ 0  9  0]\n",
            " [ 0  0 11]]\n"
          ]
        }
      ]
    },
    {
      "cell_type": "code",
      "source": [
        "from sklearn.linear_model import SGDClassifier"
      ],
      "metadata": {
        "id": "b7hw8lLIIYe1"
      },
      "execution_count": null,
      "outputs": []
    },
    {
      "cell_type": "code",
      "source": [
        "#Step 5: Create and train the SGDClassifier\n",
        "model = SGDClassifier(loss='log_loss', max_iter=1000, random_state=42)  # Using 'log' loss for logistic regression-like classifier\n",
        "model.fit(X_train, y_train)\n",
        "\n",
        "# Step 6: Evaluate the model's performance\n",
        "y_pred = model.predict(X_test)\n",
        "accuracy = accuracy_score(y_test, y_pred)\n",
        "print(\"Accuracy:\", accuracy)\n",
        "\n",
        "# You can also check other performance metrics like classification report and confusion matrix\n",
        "print(\"\\nClassification Report:\")\n",
        "print(classification_report(y_test, y_pred))\n",
        "\n",
        "print(\"\\nConfusion Matrix:\")\n",
        "print(confusion_matrix(y_test, y_pred))"
      ],
      "metadata": {
        "colab": {
          "base_uri": "https://localhost:8080/"
        },
        "id": "kQ8V6x3MJDKg",
        "outputId": "b1d134a9-e69b-4bee-c462-3be616eacf05"
      },
      "execution_count": null,
      "outputs": [
        {
          "output_type": "stream",
          "name": "stdout",
          "text": [
            "Accuracy: 0.9666666666666667\n",
            "\n",
            "Classification Report:\n",
            "              precision    recall  f1-score   support\n",
            "\n",
            "           0       1.00      1.00      1.00        10\n",
            "           1       1.00      0.89      0.94         9\n",
            "           2       0.92      1.00      0.96        11\n",
            "\n",
            "    accuracy                           0.97        30\n",
            "   macro avg       0.97      0.96      0.97        30\n",
            "weighted avg       0.97      0.97      0.97        30\n",
            "\n",
            "\n",
            "Confusion Matrix:\n",
            "[[10  0  0]\n",
            " [ 0  8  1]\n",
            " [ 0  0 11]]\n"
          ]
        }
      ]
    },
    {
      "cell_type": "markdown",
      "source": [
        "# Q 9. On the MNIST dataset, train an SVM classifier. You&#39;ll need to use one-versus-the-rest to assign all 10 digits because SVM classifiers are binary classifiers. To accelerate up the process, you might want to tune the hyperparameters using small validation sets. What level of precision can you achieve?"
      ],
      "metadata": {
        "id": "HS2UH1-MJb_Z"
      }
    },
    {
      "cell_type": "code",
      "source": [
        "# Import necessary libraries\n",
        "import numpy as np\n",
        "from sklearn import datasets, svm, metrics\n",
        "from sklearn.model_selection import train_test_split\n",
        "\n",
        "# Load the MNIST dataset\n",
        "mnist = datasets.fetch_openml('mnist_784', version=1, as_frame=False,parser='auto')"
      ],
      "metadata": {
        "id": "SKSSgcHeJSwN"
      },
      "execution_count": null,
      "outputs": []
    },
    {
      "cell_type": "code",
      "source": [
        "mnist.keys()"
      ],
      "metadata": {
        "colab": {
          "base_uri": "https://localhost:8080/"
        },
        "id": "qRA5tPgKJ8R0",
        "outputId": "60b85238-71b2-4d54-bf1b-a7e5af6d0a61"
      },
      "execution_count": null,
      "outputs": [
        {
          "output_type": "execute_result",
          "data": {
            "text/plain": [
              "dict_keys(['data', 'target', 'frame', 'categories', 'feature_names', 'target_names', 'DESCR', 'details', 'url'])"
            ]
          },
          "metadata": {},
          "execution_count": 23
        }
      ]
    },
    {
      "cell_type": "code",
      "source": [
        "mnist.data"
      ],
      "metadata": {
        "colab": {
          "base_uri": "https://localhost:8080/"
        },
        "id": "q5bqcTvFKL9I",
        "outputId": "b83e5e73-1a73-4eb3-c2af-a2b4e1a987c8"
      },
      "execution_count": null,
      "outputs": [
        {
          "output_type": "execute_result",
          "data": {
            "text/plain": [
              "array([[0, 0, 0, ..., 0, 0, 0],\n",
              "       [0, 0, 0, ..., 0, 0, 0],\n",
              "       [0, 0, 0, ..., 0, 0, 0],\n",
              "       ...,\n",
              "       [0, 0, 0, ..., 0, 0, 0],\n",
              "       [0, 0, 0, ..., 0, 0, 0],\n",
              "       [0, 0, 0, ..., 0, 0, 0]])"
            ]
          },
          "metadata": {},
          "execution_count": 24
        }
      ]
    },
    {
      "cell_type": "code",
      "source": [
        "mnist.target"
      ],
      "metadata": {
        "colab": {
          "base_uri": "https://localhost:8080/"
        },
        "id": "zrp4samEKQmw",
        "outputId": "8743a67f-58cf-4623-a6c1-5f792a50f5be"
      },
      "execution_count": null,
      "outputs": [
        {
          "output_type": "execute_result",
          "data": {
            "text/plain": [
              "array(['5', '0', '4', ..., '4', '5', '6'], dtype=object)"
            ]
          },
          "metadata": {},
          "execution_count": 25
        }
      ]
    },
    {
      "cell_type": "code",
      "source": [
        "# Preprocess the data and split it into training and testing sets\n",
        "X = np.array(mnist.data) / 255.0  # Normalize pixel values to the range [0, 1]\n",
        "y = np.array(mnist.target)"
      ],
      "metadata": {
        "id": "XO_SWOSCKTDY"
      },
      "execution_count": null,
      "outputs": []
    },
    {
      "cell_type": "code",
      "source": [
        "X_train, X_test, y_train, y_test = train_test_split(X, y, test_size=0.2, random_state=42)"
      ],
      "metadata": {
        "id": "kxcbn8ThKa6X"
      },
      "execution_count": null,
      "outputs": []
    },
    {
      "cell_type": "code",
      "source": [
        "# Create an SVM classifier and train it on the data\n",
        "svm_classifier = svm.SVC(kernel='linear', C=1.0)  # You can also try other kernels like 'rbf' or 'poly'\n",
        "svm_classifier.fit(X_train, y_train)"
      ],
      "metadata": {
        "colab": {
          "base_uri": "https://localhost:8080/",
          "height": 75
        },
        "id": "PsZMZJA3Kdow",
        "outputId": "bfb6ce1a-31be-40a7-e5f5-421691c968c6"
      },
      "execution_count": null,
      "outputs": [
        {
          "output_type": "execute_result",
          "data": {
            "text/plain": [
              "SVC(kernel='linear')"
            ],
            "text/html": [
              "<style>#sk-container-id-2 {color: black;background-color: white;}#sk-container-id-2 pre{padding: 0;}#sk-container-id-2 div.sk-toggleable {background-color: white;}#sk-container-id-2 label.sk-toggleable__label {cursor: pointer;display: block;width: 100%;margin-bottom: 0;padding: 0.3em;box-sizing: border-box;text-align: center;}#sk-container-id-2 label.sk-toggleable__label-arrow:before {content: \"▸\";float: left;margin-right: 0.25em;color: #696969;}#sk-container-id-2 label.sk-toggleable__label-arrow:hover:before {color: black;}#sk-container-id-2 div.sk-estimator:hover label.sk-toggleable__label-arrow:before {color: black;}#sk-container-id-2 div.sk-toggleable__content {max-height: 0;max-width: 0;overflow: hidden;text-align: left;background-color: #f0f8ff;}#sk-container-id-2 div.sk-toggleable__content pre {margin: 0.2em;color: black;border-radius: 0.25em;background-color: #f0f8ff;}#sk-container-id-2 input.sk-toggleable__control:checked~div.sk-toggleable__content {max-height: 200px;max-width: 100%;overflow: auto;}#sk-container-id-2 input.sk-toggleable__control:checked~label.sk-toggleable__label-arrow:before {content: \"▾\";}#sk-container-id-2 div.sk-estimator input.sk-toggleable__control:checked~label.sk-toggleable__label {background-color: #d4ebff;}#sk-container-id-2 div.sk-label input.sk-toggleable__control:checked~label.sk-toggleable__label {background-color: #d4ebff;}#sk-container-id-2 input.sk-hidden--visually {border: 0;clip: rect(1px 1px 1px 1px);clip: rect(1px, 1px, 1px, 1px);height: 1px;margin: -1px;overflow: hidden;padding: 0;position: absolute;width: 1px;}#sk-container-id-2 div.sk-estimator {font-family: monospace;background-color: #f0f8ff;border: 1px dotted black;border-radius: 0.25em;box-sizing: border-box;margin-bottom: 0.5em;}#sk-container-id-2 div.sk-estimator:hover {background-color: #d4ebff;}#sk-container-id-2 div.sk-parallel-item::after {content: \"\";width: 100%;border-bottom: 1px solid gray;flex-grow: 1;}#sk-container-id-2 div.sk-label:hover label.sk-toggleable__label {background-color: #d4ebff;}#sk-container-id-2 div.sk-serial::before {content: \"\";position: absolute;border-left: 1px solid gray;box-sizing: border-box;top: 0;bottom: 0;left: 50%;z-index: 0;}#sk-container-id-2 div.sk-serial {display: flex;flex-direction: column;align-items: center;background-color: white;padding-right: 0.2em;padding-left: 0.2em;position: relative;}#sk-container-id-2 div.sk-item {position: relative;z-index: 1;}#sk-container-id-2 div.sk-parallel {display: flex;align-items: stretch;justify-content: center;background-color: white;position: relative;}#sk-container-id-2 div.sk-item::before, #sk-container-id-2 div.sk-parallel-item::before {content: \"\";position: absolute;border-left: 1px solid gray;box-sizing: border-box;top: 0;bottom: 0;left: 50%;z-index: -1;}#sk-container-id-2 div.sk-parallel-item {display: flex;flex-direction: column;z-index: 1;position: relative;background-color: white;}#sk-container-id-2 div.sk-parallel-item:first-child::after {align-self: flex-end;width: 50%;}#sk-container-id-2 div.sk-parallel-item:last-child::after {align-self: flex-start;width: 50%;}#sk-container-id-2 div.sk-parallel-item:only-child::after {width: 0;}#sk-container-id-2 div.sk-dashed-wrapped {border: 1px dashed gray;margin: 0 0.4em 0.5em 0.4em;box-sizing: border-box;padding-bottom: 0.4em;background-color: white;}#sk-container-id-2 div.sk-label label {font-family: monospace;font-weight: bold;display: inline-block;line-height: 1.2em;}#sk-container-id-2 div.sk-label-container {text-align: center;}#sk-container-id-2 div.sk-container {/* jupyter's `normalize.less` sets `[hidden] { display: none; }` but bootstrap.min.css set `[hidden] { display: none !important; }` so we also need the `!important` here to be able to override the default hidden behavior on the sphinx rendered scikit-learn.org. See: https://github.com/scikit-learn/scikit-learn/issues/21755 */display: inline-block !important;position: relative;}#sk-container-id-2 div.sk-text-repr-fallback {display: none;}</style><div id=\"sk-container-id-2\" class=\"sk-top-container\"><div class=\"sk-text-repr-fallback\"><pre>SVC(kernel=&#x27;linear&#x27;)</pre><b>In a Jupyter environment, please rerun this cell to show the HTML representation or trust the notebook. <br />On GitHub, the HTML representation is unable to render, please try loading this page with nbviewer.org.</b></div><div class=\"sk-container\" hidden><div class=\"sk-item\"><div class=\"sk-estimator sk-toggleable\"><input class=\"sk-toggleable__control sk-hidden--visually\" id=\"sk-estimator-id-2\" type=\"checkbox\" checked><label for=\"sk-estimator-id-2\" class=\"sk-toggleable__label sk-toggleable__label-arrow\">SVC</label><div class=\"sk-toggleable__content\"><pre>SVC(kernel=&#x27;linear&#x27;)</pre></div></div></div></div></div>"
            ]
          },
          "metadata": {},
          "execution_count": 28
        }
      ]
    },
    {
      "cell_type": "code",
      "source": [
        "# Make predictions on the test set\n",
        "y_pred = svm_classifier.predict(X_test)"
      ],
      "metadata": {
        "id": "V-MCrN2qKgb4"
      },
      "execution_count": null,
      "outputs": []
    },
    {
      "cell_type": "code",
      "source": [
        "# Calculate accuracy and other metrics\n",
        "accuracy = metrics.accuracy_score(y_test, y_pred)\n",
        "print(\"Accuracy:\", accuracy)\n",
        "\n",
        "# You can also print other metrics like confusion matrix, precision, recall, etc.\n",
        "print(\"Confusion Matrix:\")\n",
        "print(metrics.confusion_matrix(y_test, y_pred))"
      ],
      "metadata": {
        "colab": {
          "base_uri": "https://localhost:8080/"
        },
        "id": "s6FOVmHJLoP-",
        "outputId": "584b2ebf-33e6-4e17-c13a-2a2195f1da20"
      },
      "execution_count": null,
      "outputs": [
        {
          "output_type": "stream",
          "name": "stdout",
          "text": [
            "Accuracy: 0.9351428571428572\n",
            "Confusion Matrix:\n",
            "[[1310    1    4    0    3   11    7    1    5    1]\n",
            " [   0 1571    3    8    1    4    0    5    5    3]\n",
            " [   8   16 1273   14   14    4   12    6   27    6]\n",
            " [   8    9   27 1323    1   31    1   10   14    9]\n",
            " [   6    1   11    0 1219    3    4    8    5   38]\n",
            " [   5   10    5   47    7 1148   16    3   25    7]\n",
            " [   4    4   16    2   11   26 1330    0    3    0]\n",
            " [   2    5   26    4   13    7    0 1428    1   17]\n",
            " [   8   18   21   48    5   32    8   10 1195   12]\n",
            " [   6   10    8    9   35    5    0   39   13 1295]]\n"
          ]
        }
      ]
    },
    {
      "cell_type": "markdown",
      "source": [
        "# Q 10. On the California housing dataset, train an SVM regressor."
      ],
      "metadata": {
        "id": "puxwek79MGR8"
      }
    },
    {
      "cell_type": "code",
      "source": [
        "from sklearn.datasets import fetch_california_housing\n",
        "\n",
        "california_housing = fetch_california_housing(as_frame=True)"
      ],
      "metadata": {
        "id": "bSHZap16MBgQ"
      },
      "execution_count": null,
      "outputs": []
    },
    {
      "cell_type": "code",
      "source": [
        "california_housing.keys()"
      ],
      "metadata": {
        "colab": {
          "base_uri": "https://localhost:8080/"
        },
        "id": "RTvjwGBuMvzL",
        "outputId": "6f046237-a626-46bf-a08e-e1240368f5bc"
      },
      "execution_count": null,
      "outputs": [
        {
          "output_type": "execute_result",
          "data": {
            "text/plain": [
              "dict_keys(['data', 'target', 'frame', 'target_names', 'feature_names', 'DESCR'])"
            ]
          },
          "metadata": {},
          "execution_count": 34
        }
      ]
    },
    {
      "cell_type": "code",
      "source": [
        "california_housing.feature_names"
      ],
      "metadata": {
        "colab": {
          "base_uri": "https://localhost:8080/"
        },
        "id": "2QKqGtzMMyC7",
        "outputId": "9bdd94ac-00fd-49dc-8862-b57ea090ebc4"
      },
      "execution_count": null,
      "outputs": [
        {
          "output_type": "execute_result",
          "data": {
            "text/plain": [
              "['MedInc',\n",
              " 'HouseAge',\n",
              " 'AveRooms',\n",
              " 'AveBedrms',\n",
              " 'Population',\n",
              " 'AveOccup',\n",
              " 'Latitude',\n",
              " 'Longitude']"
            ]
          },
          "metadata": {},
          "execution_count": 35
        }
      ]
    },
    {
      "cell_type": "code",
      "source": [
        "california_housing.target_names"
      ],
      "metadata": {
        "colab": {
          "base_uri": "https://localhost:8080/"
        },
        "id": "mQdeN7nAM9m7",
        "outputId": "f0ac120a-9cad-4b87-9247-e9d2e0152872"
      },
      "execution_count": null,
      "outputs": [
        {
          "output_type": "execute_result",
          "data": {
            "text/plain": [
              "['MedHouseVal']"
            ]
          },
          "metadata": {},
          "execution_count": 36
        }
      ]
    },
    {
      "cell_type": "code",
      "source": [
        "california_housing.target"
      ],
      "metadata": {
        "colab": {
          "base_uri": "https://localhost:8080/"
        },
        "id": "R8rKmQoONBz7",
        "outputId": "b1525a96-21a3-4230-b7cc-900070924a13"
      },
      "execution_count": null,
      "outputs": [
        {
          "output_type": "execute_result",
          "data": {
            "text/plain": [
              "0        4.526\n",
              "1        3.585\n",
              "2        3.521\n",
              "3        3.413\n",
              "4        3.422\n",
              "         ...  \n",
              "20635    0.781\n",
              "20636    0.771\n",
              "20637    0.923\n",
              "20638    0.847\n",
              "20639    0.894\n",
              "Name: MedHouseVal, Length: 20640, dtype: float64"
            ]
          },
          "metadata": {},
          "execution_count": 37
        }
      ]
    },
    {
      "cell_type": "code",
      "source": [
        "california_housing.frame.head()"
      ],
      "metadata": {
        "colab": {
          "base_uri": "https://localhost:8080/",
          "height": 206
        },
        "id": "lqiQtBwaNGH4",
        "outputId": "e17581bc-21bc-4216-b7ca-417e7beaf242"
      },
      "execution_count": null,
      "outputs": [
        {
          "output_type": "execute_result",
          "data": {
            "text/plain": [
              "   MedInc  HouseAge  AveRooms  AveBedrms  Population  AveOccup  Latitude  \\\n",
              "0  8.3252      41.0  6.984127   1.023810       322.0  2.555556     37.88   \n",
              "1  8.3014      21.0  6.238137   0.971880      2401.0  2.109842     37.86   \n",
              "2  7.2574      52.0  8.288136   1.073446       496.0  2.802260     37.85   \n",
              "3  5.6431      52.0  5.817352   1.073059       558.0  2.547945     37.85   \n",
              "4  3.8462      52.0  6.281853   1.081081       565.0  2.181467     37.85   \n",
              "\n",
              "   Longitude  MedHouseVal  \n",
              "0    -122.23        4.526  \n",
              "1    -122.22        3.585  \n",
              "2    -122.24        3.521  \n",
              "3    -122.25        3.413  \n",
              "4    -122.25        3.422  "
            ],
            "text/html": [
              "\n",
              "\n",
              "  <div id=\"df-65ee14cd-9db0-4ec3-923f-d10cdcd8c6a5\">\n",
              "    <div class=\"colab-df-container\">\n",
              "      <div>\n",
              "<style scoped>\n",
              "    .dataframe tbody tr th:only-of-type {\n",
              "        vertical-align: middle;\n",
              "    }\n",
              "\n",
              "    .dataframe tbody tr th {\n",
              "        vertical-align: top;\n",
              "    }\n",
              "\n",
              "    .dataframe thead th {\n",
              "        text-align: right;\n",
              "    }\n",
              "</style>\n",
              "<table border=\"1\" class=\"dataframe\">\n",
              "  <thead>\n",
              "    <tr style=\"text-align: right;\">\n",
              "      <th></th>\n",
              "      <th>MedInc</th>\n",
              "      <th>HouseAge</th>\n",
              "      <th>AveRooms</th>\n",
              "      <th>AveBedrms</th>\n",
              "      <th>Population</th>\n",
              "      <th>AveOccup</th>\n",
              "      <th>Latitude</th>\n",
              "      <th>Longitude</th>\n",
              "      <th>MedHouseVal</th>\n",
              "    </tr>\n",
              "  </thead>\n",
              "  <tbody>\n",
              "    <tr>\n",
              "      <th>0</th>\n",
              "      <td>8.3252</td>\n",
              "      <td>41.0</td>\n",
              "      <td>6.984127</td>\n",
              "      <td>1.023810</td>\n",
              "      <td>322.0</td>\n",
              "      <td>2.555556</td>\n",
              "      <td>37.88</td>\n",
              "      <td>-122.23</td>\n",
              "      <td>4.526</td>\n",
              "    </tr>\n",
              "    <tr>\n",
              "      <th>1</th>\n",
              "      <td>8.3014</td>\n",
              "      <td>21.0</td>\n",
              "      <td>6.238137</td>\n",
              "      <td>0.971880</td>\n",
              "      <td>2401.0</td>\n",
              "      <td>2.109842</td>\n",
              "      <td>37.86</td>\n",
              "      <td>-122.22</td>\n",
              "      <td>3.585</td>\n",
              "    </tr>\n",
              "    <tr>\n",
              "      <th>2</th>\n",
              "      <td>7.2574</td>\n",
              "      <td>52.0</td>\n",
              "      <td>8.288136</td>\n",
              "      <td>1.073446</td>\n",
              "      <td>496.0</td>\n",
              "      <td>2.802260</td>\n",
              "      <td>37.85</td>\n",
              "      <td>-122.24</td>\n",
              "      <td>3.521</td>\n",
              "    </tr>\n",
              "    <tr>\n",
              "      <th>3</th>\n",
              "      <td>5.6431</td>\n",
              "      <td>52.0</td>\n",
              "      <td>5.817352</td>\n",
              "      <td>1.073059</td>\n",
              "      <td>558.0</td>\n",
              "      <td>2.547945</td>\n",
              "      <td>37.85</td>\n",
              "      <td>-122.25</td>\n",
              "      <td>3.413</td>\n",
              "    </tr>\n",
              "    <tr>\n",
              "      <th>4</th>\n",
              "      <td>3.8462</td>\n",
              "      <td>52.0</td>\n",
              "      <td>6.281853</td>\n",
              "      <td>1.081081</td>\n",
              "      <td>565.0</td>\n",
              "      <td>2.181467</td>\n",
              "      <td>37.85</td>\n",
              "      <td>-122.25</td>\n",
              "      <td>3.422</td>\n",
              "    </tr>\n",
              "  </tbody>\n",
              "</table>\n",
              "</div>\n",
              "      <button class=\"colab-df-convert\" onclick=\"convertToInteractive('df-65ee14cd-9db0-4ec3-923f-d10cdcd8c6a5')\"\n",
              "              title=\"Convert this dataframe to an interactive table.\"\n",
              "              style=\"display:none;\">\n",
              "\n",
              "  <svg xmlns=\"http://www.w3.org/2000/svg\" height=\"24px\"viewBox=\"0 0 24 24\"\n",
              "       width=\"24px\">\n",
              "    <path d=\"M0 0h24v24H0V0z\" fill=\"none\"/>\n",
              "    <path d=\"M18.56 5.44l.94 2.06.94-2.06 2.06-.94-2.06-.94-.94-2.06-.94 2.06-2.06.94zm-11 1L8.5 8.5l.94-2.06 2.06-.94-2.06-.94L8.5 2.5l-.94 2.06-2.06.94zm10 10l.94 2.06.94-2.06 2.06-.94-2.06-.94-.94-2.06-.94 2.06-2.06.94z\"/><path d=\"M17.41 7.96l-1.37-1.37c-.4-.4-.92-.59-1.43-.59-.52 0-1.04.2-1.43.59L10.3 9.45l-7.72 7.72c-.78.78-.78 2.05 0 2.83L4 21.41c.39.39.9.59 1.41.59.51 0 1.02-.2 1.41-.59l7.78-7.78 2.81-2.81c.8-.78.8-2.07 0-2.86zM5.41 20L4 18.59l7.72-7.72 1.47 1.35L5.41 20z\"/>\n",
              "  </svg>\n",
              "      </button>\n",
              "\n",
              "\n",
              "\n",
              "    <div id=\"df-4f487355-cb31-4ff3-82b3-36efe224aef7\">\n",
              "      <button class=\"colab-df-quickchart\" onclick=\"quickchart('df-4f487355-cb31-4ff3-82b3-36efe224aef7')\"\n",
              "              title=\"Suggest charts.\"\n",
              "              style=\"display:none;\">\n",
              "\n",
              "<svg xmlns=\"http://www.w3.org/2000/svg\" height=\"24px\"viewBox=\"0 0 24 24\"\n",
              "     width=\"24px\">\n",
              "    <g>\n",
              "        <path d=\"M19 3H5c-1.1 0-2 .9-2 2v14c0 1.1.9 2 2 2h14c1.1 0 2-.9 2-2V5c0-1.1-.9-2-2-2zM9 17H7v-7h2v7zm4 0h-2V7h2v10zm4 0h-2v-4h2v4z\"/>\n",
              "    </g>\n",
              "</svg>\n",
              "      </button>\n",
              "    </div>\n",
              "\n",
              "<style>\n",
              "  .colab-df-quickchart {\n",
              "    background-color: #E8F0FE;\n",
              "    border: none;\n",
              "    border-radius: 50%;\n",
              "    cursor: pointer;\n",
              "    display: none;\n",
              "    fill: #1967D2;\n",
              "    height: 32px;\n",
              "    padding: 0 0 0 0;\n",
              "    width: 32px;\n",
              "  }\n",
              "\n",
              "  .colab-df-quickchart:hover {\n",
              "    background-color: #E2EBFA;\n",
              "    box-shadow: 0px 1px 2px rgba(60, 64, 67, 0.3), 0px 1px 3px 1px rgba(60, 64, 67, 0.15);\n",
              "    fill: #174EA6;\n",
              "  }\n",
              "\n",
              "  [theme=dark] .colab-df-quickchart {\n",
              "    background-color: #3B4455;\n",
              "    fill: #D2E3FC;\n",
              "  }\n",
              "\n",
              "  [theme=dark] .colab-df-quickchart:hover {\n",
              "    background-color: #434B5C;\n",
              "    box-shadow: 0px 1px 3px 1px rgba(0, 0, 0, 0.15);\n",
              "    filter: drop-shadow(0px 1px 2px rgba(0, 0, 0, 0.3));\n",
              "    fill: #FFFFFF;\n",
              "  }\n",
              "</style>\n",
              "\n",
              "    <script>\n",
              "      async function quickchart(key) {\n",
              "        const containerElement = document.querySelector('#' + key);\n",
              "        const charts = await google.colab.kernel.invokeFunction(\n",
              "            'suggestCharts', [key], {});\n",
              "      }\n",
              "    </script>\n",
              "\n",
              "      <script>\n",
              "\n",
              "function displayQuickchartButton(domScope) {\n",
              "  let quickchartButtonEl =\n",
              "    domScope.querySelector('#df-4f487355-cb31-4ff3-82b3-36efe224aef7 button.colab-df-quickchart');\n",
              "  quickchartButtonEl.style.display =\n",
              "    google.colab.kernel.accessAllowed ? 'block' : 'none';\n",
              "}\n",
              "\n",
              "        displayQuickchartButton(document);\n",
              "      </script>\n",
              "      <style>\n",
              "    .colab-df-container {\n",
              "      display:flex;\n",
              "      flex-wrap:wrap;\n",
              "      gap: 12px;\n",
              "    }\n",
              "\n",
              "    .colab-df-convert {\n",
              "      background-color: #E8F0FE;\n",
              "      border: none;\n",
              "      border-radius: 50%;\n",
              "      cursor: pointer;\n",
              "      display: none;\n",
              "      fill: #1967D2;\n",
              "      height: 32px;\n",
              "      padding: 0 0 0 0;\n",
              "      width: 32px;\n",
              "    }\n",
              "\n",
              "    .colab-df-convert:hover {\n",
              "      background-color: #E2EBFA;\n",
              "      box-shadow: 0px 1px 2px rgba(60, 64, 67, 0.3), 0px 1px 3px 1px rgba(60, 64, 67, 0.15);\n",
              "      fill: #174EA6;\n",
              "    }\n",
              "\n",
              "    [theme=dark] .colab-df-convert {\n",
              "      background-color: #3B4455;\n",
              "      fill: #D2E3FC;\n",
              "    }\n",
              "\n",
              "    [theme=dark] .colab-df-convert:hover {\n",
              "      background-color: #434B5C;\n",
              "      box-shadow: 0px 1px 3px 1px rgba(0, 0, 0, 0.15);\n",
              "      filter: drop-shadow(0px 1px 2px rgba(0, 0, 0, 0.3));\n",
              "      fill: #FFFFFF;\n",
              "    }\n",
              "  </style>\n",
              "\n",
              "      <script>\n",
              "        const buttonEl =\n",
              "          document.querySelector('#df-65ee14cd-9db0-4ec3-923f-d10cdcd8c6a5 button.colab-df-convert');\n",
              "        buttonEl.style.display =\n",
              "          google.colab.kernel.accessAllowed ? 'block' : 'none';\n",
              "\n",
              "        async function convertToInteractive(key) {\n",
              "          const element = document.querySelector('#df-65ee14cd-9db0-4ec3-923f-d10cdcd8c6a5');\n",
              "          const dataTable =\n",
              "            await google.colab.kernel.invokeFunction('convertToInteractive',\n",
              "                                                     [key], {});\n",
              "          if (!dataTable) return;\n",
              "\n",
              "          const docLinkHtml = 'Like what you see? Visit the ' +\n",
              "            '<a target=\"_blank\" href=https://colab.research.google.com/notebooks/data_table.ipynb>data table notebook</a>'\n",
              "            + ' to learn more about interactive tables.';\n",
              "          element.innerHTML = '';\n",
              "          dataTable['output_type'] = 'display_data';\n",
              "          await google.colab.output.renderOutput(dataTable, element);\n",
              "          const docLink = document.createElement('div');\n",
              "          docLink.innerHTML = docLinkHtml;\n",
              "          element.appendChild(docLink);\n",
              "        }\n",
              "      </script>\n",
              "    </div>\n",
              "  </div>\n"
            ]
          },
          "metadata": {},
          "execution_count": 38
        }
      ]
    },
    {
      "cell_type": "code",
      "source": [
        "california_housing.data.head()"
      ],
      "metadata": {
        "colab": {
          "base_uri": "https://localhost:8080/",
          "height": 206
        },
        "id": "eym9ynF2NRDV",
        "outputId": "64c234f7-a5b6-4222-82b1-6242cc87cc4f"
      },
      "execution_count": null,
      "outputs": [
        {
          "output_type": "execute_result",
          "data": {
            "text/plain": [
              "   MedInc  HouseAge  AveRooms  AveBedrms  Population  AveOccup  Latitude  \\\n",
              "0  8.3252      41.0  6.984127   1.023810       322.0  2.555556     37.88   \n",
              "1  8.3014      21.0  6.238137   0.971880      2401.0  2.109842     37.86   \n",
              "2  7.2574      52.0  8.288136   1.073446       496.0  2.802260     37.85   \n",
              "3  5.6431      52.0  5.817352   1.073059       558.0  2.547945     37.85   \n",
              "4  3.8462      52.0  6.281853   1.081081       565.0  2.181467     37.85   \n",
              "\n",
              "   Longitude  \n",
              "0    -122.23  \n",
              "1    -122.22  \n",
              "2    -122.24  \n",
              "3    -122.25  \n",
              "4    -122.25  "
            ],
            "text/html": [
              "\n",
              "\n",
              "  <div id=\"df-faeae3a9-e971-4b64-9d0e-dd7cd1827d33\">\n",
              "    <div class=\"colab-df-container\">\n",
              "      <div>\n",
              "<style scoped>\n",
              "    .dataframe tbody tr th:only-of-type {\n",
              "        vertical-align: middle;\n",
              "    }\n",
              "\n",
              "    .dataframe tbody tr th {\n",
              "        vertical-align: top;\n",
              "    }\n",
              "\n",
              "    .dataframe thead th {\n",
              "        text-align: right;\n",
              "    }\n",
              "</style>\n",
              "<table border=\"1\" class=\"dataframe\">\n",
              "  <thead>\n",
              "    <tr style=\"text-align: right;\">\n",
              "      <th></th>\n",
              "      <th>MedInc</th>\n",
              "      <th>HouseAge</th>\n",
              "      <th>AveRooms</th>\n",
              "      <th>AveBedrms</th>\n",
              "      <th>Population</th>\n",
              "      <th>AveOccup</th>\n",
              "      <th>Latitude</th>\n",
              "      <th>Longitude</th>\n",
              "    </tr>\n",
              "  </thead>\n",
              "  <tbody>\n",
              "    <tr>\n",
              "      <th>0</th>\n",
              "      <td>8.3252</td>\n",
              "      <td>41.0</td>\n",
              "      <td>6.984127</td>\n",
              "      <td>1.023810</td>\n",
              "      <td>322.0</td>\n",
              "      <td>2.555556</td>\n",
              "      <td>37.88</td>\n",
              "      <td>-122.23</td>\n",
              "    </tr>\n",
              "    <tr>\n",
              "      <th>1</th>\n",
              "      <td>8.3014</td>\n",
              "      <td>21.0</td>\n",
              "      <td>6.238137</td>\n",
              "      <td>0.971880</td>\n",
              "      <td>2401.0</td>\n",
              "      <td>2.109842</td>\n",
              "      <td>37.86</td>\n",
              "      <td>-122.22</td>\n",
              "    </tr>\n",
              "    <tr>\n",
              "      <th>2</th>\n",
              "      <td>7.2574</td>\n",
              "      <td>52.0</td>\n",
              "      <td>8.288136</td>\n",
              "      <td>1.073446</td>\n",
              "      <td>496.0</td>\n",
              "      <td>2.802260</td>\n",
              "      <td>37.85</td>\n",
              "      <td>-122.24</td>\n",
              "    </tr>\n",
              "    <tr>\n",
              "      <th>3</th>\n",
              "      <td>5.6431</td>\n",
              "      <td>52.0</td>\n",
              "      <td>5.817352</td>\n",
              "      <td>1.073059</td>\n",
              "      <td>558.0</td>\n",
              "      <td>2.547945</td>\n",
              "      <td>37.85</td>\n",
              "      <td>-122.25</td>\n",
              "    </tr>\n",
              "    <tr>\n",
              "      <th>4</th>\n",
              "      <td>3.8462</td>\n",
              "      <td>52.0</td>\n",
              "      <td>6.281853</td>\n",
              "      <td>1.081081</td>\n",
              "      <td>565.0</td>\n",
              "      <td>2.181467</td>\n",
              "      <td>37.85</td>\n",
              "      <td>-122.25</td>\n",
              "    </tr>\n",
              "  </tbody>\n",
              "</table>\n",
              "</div>\n",
              "      <button class=\"colab-df-convert\" onclick=\"convertToInteractive('df-faeae3a9-e971-4b64-9d0e-dd7cd1827d33')\"\n",
              "              title=\"Convert this dataframe to an interactive table.\"\n",
              "              style=\"display:none;\">\n",
              "\n",
              "  <svg xmlns=\"http://www.w3.org/2000/svg\" height=\"24px\"viewBox=\"0 0 24 24\"\n",
              "       width=\"24px\">\n",
              "    <path d=\"M0 0h24v24H0V0z\" fill=\"none\"/>\n",
              "    <path d=\"M18.56 5.44l.94 2.06.94-2.06 2.06-.94-2.06-.94-.94-2.06-.94 2.06-2.06.94zm-11 1L8.5 8.5l.94-2.06 2.06-.94-2.06-.94L8.5 2.5l-.94 2.06-2.06.94zm10 10l.94 2.06.94-2.06 2.06-.94-2.06-.94-.94-2.06-.94 2.06-2.06.94z\"/><path d=\"M17.41 7.96l-1.37-1.37c-.4-.4-.92-.59-1.43-.59-.52 0-1.04.2-1.43.59L10.3 9.45l-7.72 7.72c-.78.78-.78 2.05 0 2.83L4 21.41c.39.39.9.59 1.41.59.51 0 1.02-.2 1.41-.59l7.78-7.78 2.81-2.81c.8-.78.8-2.07 0-2.86zM5.41 20L4 18.59l7.72-7.72 1.47 1.35L5.41 20z\"/>\n",
              "  </svg>\n",
              "      </button>\n",
              "\n",
              "\n",
              "\n",
              "    <div id=\"df-a30db3cc-1fb5-48b5-a8d2-1160ac2e7f97\">\n",
              "      <button class=\"colab-df-quickchart\" onclick=\"quickchart('df-a30db3cc-1fb5-48b5-a8d2-1160ac2e7f97')\"\n",
              "              title=\"Suggest charts.\"\n",
              "              style=\"display:none;\">\n",
              "\n",
              "<svg xmlns=\"http://www.w3.org/2000/svg\" height=\"24px\"viewBox=\"0 0 24 24\"\n",
              "     width=\"24px\">\n",
              "    <g>\n",
              "        <path d=\"M19 3H5c-1.1 0-2 .9-2 2v14c0 1.1.9 2 2 2h14c1.1 0 2-.9 2-2V5c0-1.1-.9-2-2-2zM9 17H7v-7h2v7zm4 0h-2V7h2v10zm4 0h-2v-4h2v4z\"/>\n",
              "    </g>\n",
              "</svg>\n",
              "      </button>\n",
              "    </div>\n",
              "\n",
              "<style>\n",
              "  .colab-df-quickchart {\n",
              "    background-color: #E8F0FE;\n",
              "    border: none;\n",
              "    border-radius: 50%;\n",
              "    cursor: pointer;\n",
              "    display: none;\n",
              "    fill: #1967D2;\n",
              "    height: 32px;\n",
              "    padding: 0 0 0 0;\n",
              "    width: 32px;\n",
              "  }\n",
              "\n",
              "  .colab-df-quickchart:hover {\n",
              "    background-color: #E2EBFA;\n",
              "    box-shadow: 0px 1px 2px rgba(60, 64, 67, 0.3), 0px 1px 3px 1px rgba(60, 64, 67, 0.15);\n",
              "    fill: #174EA6;\n",
              "  }\n",
              "\n",
              "  [theme=dark] .colab-df-quickchart {\n",
              "    background-color: #3B4455;\n",
              "    fill: #D2E3FC;\n",
              "  }\n",
              "\n",
              "  [theme=dark] .colab-df-quickchart:hover {\n",
              "    background-color: #434B5C;\n",
              "    box-shadow: 0px 1px 3px 1px rgba(0, 0, 0, 0.15);\n",
              "    filter: drop-shadow(0px 1px 2px rgba(0, 0, 0, 0.3));\n",
              "    fill: #FFFFFF;\n",
              "  }\n",
              "</style>\n",
              "\n",
              "    <script>\n",
              "      async function quickchart(key) {\n",
              "        const containerElement = document.querySelector('#' + key);\n",
              "        const charts = await google.colab.kernel.invokeFunction(\n",
              "            'suggestCharts', [key], {});\n",
              "      }\n",
              "    </script>\n",
              "\n",
              "      <script>\n",
              "\n",
              "function displayQuickchartButton(domScope) {\n",
              "  let quickchartButtonEl =\n",
              "    domScope.querySelector('#df-a30db3cc-1fb5-48b5-a8d2-1160ac2e7f97 button.colab-df-quickchart');\n",
              "  quickchartButtonEl.style.display =\n",
              "    google.colab.kernel.accessAllowed ? 'block' : 'none';\n",
              "}\n",
              "\n",
              "        displayQuickchartButton(document);\n",
              "      </script>\n",
              "      <style>\n",
              "    .colab-df-container {\n",
              "      display:flex;\n",
              "      flex-wrap:wrap;\n",
              "      gap: 12px;\n",
              "    }\n",
              "\n",
              "    .colab-df-convert {\n",
              "      background-color: #E8F0FE;\n",
              "      border: none;\n",
              "      border-radius: 50%;\n",
              "      cursor: pointer;\n",
              "      display: none;\n",
              "      fill: #1967D2;\n",
              "      height: 32px;\n",
              "      padding: 0 0 0 0;\n",
              "      width: 32px;\n",
              "    }\n",
              "\n",
              "    .colab-df-convert:hover {\n",
              "      background-color: #E2EBFA;\n",
              "      box-shadow: 0px 1px 2px rgba(60, 64, 67, 0.3), 0px 1px 3px 1px rgba(60, 64, 67, 0.15);\n",
              "      fill: #174EA6;\n",
              "    }\n",
              "\n",
              "    [theme=dark] .colab-df-convert {\n",
              "      background-color: #3B4455;\n",
              "      fill: #D2E3FC;\n",
              "    }\n",
              "\n",
              "    [theme=dark] .colab-df-convert:hover {\n",
              "      background-color: #434B5C;\n",
              "      box-shadow: 0px 1px 3px 1px rgba(0, 0, 0, 0.15);\n",
              "      filter: drop-shadow(0px 1px 2px rgba(0, 0, 0, 0.3));\n",
              "      fill: #FFFFFF;\n",
              "    }\n",
              "  </style>\n",
              "\n",
              "      <script>\n",
              "        const buttonEl =\n",
              "          document.querySelector('#df-faeae3a9-e971-4b64-9d0e-dd7cd1827d33 button.colab-df-convert');\n",
              "        buttonEl.style.display =\n",
              "          google.colab.kernel.accessAllowed ? 'block' : 'none';\n",
              "\n",
              "        async function convertToInteractive(key) {\n",
              "          const element = document.querySelector('#df-faeae3a9-e971-4b64-9d0e-dd7cd1827d33');\n",
              "          const dataTable =\n",
              "            await google.colab.kernel.invokeFunction('convertToInteractive',\n",
              "                                                     [key], {});\n",
              "          if (!dataTable) return;\n",
              "\n",
              "          const docLinkHtml = 'Like what you see? Visit the ' +\n",
              "            '<a target=\"_blank\" href=https://colab.research.google.com/notebooks/data_table.ipynb>data table notebook</a>'\n",
              "            + ' to learn more about interactive tables.';\n",
              "          element.innerHTML = '';\n",
              "          dataTable['output_type'] = 'display_data';\n",
              "          await google.colab.output.renderOutput(dataTable, element);\n",
              "          const docLink = document.createElement('div');\n",
              "          docLink.innerHTML = docLinkHtml;\n",
              "          element.appendChild(docLink);\n",
              "        }\n",
              "      </script>\n",
              "    </div>\n",
              "  </div>\n"
            ]
          },
          "metadata": {},
          "execution_count": 39
        }
      ]
    },
    {
      "cell_type": "code",
      "source": [
        "X=california_housing.data"
      ],
      "metadata": {
        "id": "UlQ5e3jYNVJf"
      },
      "execution_count": null,
      "outputs": []
    },
    {
      "cell_type": "code",
      "source": [
        "X"
      ],
      "metadata": {
        "colab": {
          "base_uri": "https://localhost:8080/",
          "height": 424
        },
        "id": "tohA7o_-Nh91",
        "outputId": "f0f1202b-2000-4261-f3fa-3e10efd6b125"
      },
      "execution_count": null,
      "outputs": [
        {
          "output_type": "execute_result",
          "data": {
            "text/plain": [
              "       MedInc  HouseAge  AveRooms  AveBedrms  Population  AveOccup  Latitude  \\\n",
              "0      8.3252      41.0  6.984127   1.023810       322.0  2.555556     37.88   \n",
              "1      8.3014      21.0  6.238137   0.971880      2401.0  2.109842     37.86   \n",
              "2      7.2574      52.0  8.288136   1.073446       496.0  2.802260     37.85   \n",
              "3      5.6431      52.0  5.817352   1.073059       558.0  2.547945     37.85   \n",
              "4      3.8462      52.0  6.281853   1.081081       565.0  2.181467     37.85   \n",
              "...       ...       ...       ...        ...         ...       ...       ...   \n",
              "20635  1.5603      25.0  5.045455   1.133333       845.0  2.560606     39.48   \n",
              "20636  2.5568      18.0  6.114035   1.315789       356.0  3.122807     39.49   \n",
              "20637  1.7000      17.0  5.205543   1.120092      1007.0  2.325635     39.43   \n",
              "20638  1.8672      18.0  5.329513   1.171920       741.0  2.123209     39.43   \n",
              "20639  2.3886      16.0  5.254717   1.162264      1387.0  2.616981     39.37   \n",
              "\n",
              "       Longitude  \n",
              "0        -122.23  \n",
              "1        -122.22  \n",
              "2        -122.24  \n",
              "3        -122.25  \n",
              "4        -122.25  \n",
              "...          ...  \n",
              "20635    -121.09  \n",
              "20636    -121.21  \n",
              "20637    -121.22  \n",
              "20638    -121.32  \n",
              "20639    -121.24  \n",
              "\n",
              "[20640 rows x 8 columns]"
            ],
            "text/html": [
              "\n",
              "\n",
              "  <div id=\"df-13b71452-5fbc-42b5-a4e9-d6847e8068b1\">\n",
              "    <div class=\"colab-df-container\">\n",
              "      <div>\n",
              "<style scoped>\n",
              "    .dataframe tbody tr th:only-of-type {\n",
              "        vertical-align: middle;\n",
              "    }\n",
              "\n",
              "    .dataframe tbody tr th {\n",
              "        vertical-align: top;\n",
              "    }\n",
              "\n",
              "    .dataframe thead th {\n",
              "        text-align: right;\n",
              "    }\n",
              "</style>\n",
              "<table border=\"1\" class=\"dataframe\">\n",
              "  <thead>\n",
              "    <tr style=\"text-align: right;\">\n",
              "      <th></th>\n",
              "      <th>MedInc</th>\n",
              "      <th>HouseAge</th>\n",
              "      <th>AveRooms</th>\n",
              "      <th>AveBedrms</th>\n",
              "      <th>Population</th>\n",
              "      <th>AveOccup</th>\n",
              "      <th>Latitude</th>\n",
              "      <th>Longitude</th>\n",
              "    </tr>\n",
              "  </thead>\n",
              "  <tbody>\n",
              "    <tr>\n",
              "      <th>0</th>\n",
              "      <td>8.3252</td>\n",
              "      <td>41.0</td>\n",
              "      <td>6.984127</td>\n",
              "      <td>1.023810</td>\n",
              "      <td>322.0</td>\n",
              "      <td>2.555556</td>\n",
              "      <td>37.88</td>\n",
              "      <td>-122.23</td>\n",
              "    </tr>\n",
              "    <tr>\n",
              "      <th>1</th>\n",
              "      <td>8.3014</td>\n",
              "      <td>21.0</td>\n",
              "      <td>6.238137</td>\n",
              "      <td>0.971880</td>\n",
              "      <td>2401.0</td>\n",
              "      <td>2.109842</td>\n",
              "      <td>37.86</td>\n",
              "      <td>-122.22</td>\n",
              "    </tr>\n",
              "    <tr>\n",
              "      <th>2</th>\n",
              "      <td>7.2574</td>\n",
              "      <td>52.0</td>\n",
              "      <td>8.288136</td>\n",
              "      <td>1.073446</td>\n",
              "      <td>496.0</td>\n",
              "      <td>2.802260</td>\n",
              "      <td>37.85</td>\n",
              "      <td>-122.24</td>\n",
              "    </tr>\n",
              "    <tr>\n",
              "      <th>3</th>\n",
              "      <td>5.6431</td>\n",
              "      <td>52.0</td>\n",
              "      <td>5.817352</td>\n",
              "      <td>1.073059</td>\n",
              "      <td>558.0</td>\n",
              "      <td>2.547945</td>\n",
              "      <td>37.85</td>\n",
              "      <td>-122.25</td>\n",
              "    </tr>\n",
              "    <tr>\n",
              "      <th>4</th>\n",
              "      <td>3.8462</td>\n",
              "      <td>52.0</td>\n",
              "      <td>6.281853</td>\n",
              "      <td>1.081081</td>\n",
              "      <td>565.0</td>\n",
              "      <td>2.181467</td>\n",
              "      <td>37.85</td>\n",
              "      <td>-122.25</td>\n",
              "    </tr>\n",
              "    <tr>\n",
              "      <th>...</th>\n",
              "      <td>...</td>\n",
              "      <td>...</td>\n",
              "      <td>...</td>\n",
              "      <td>...</td>\n",
              "      <td>...</td>\n",
              "      <td>...</td>\n",
              "      <td>...</td>\n",
              "      <td>...</td>\n",
              "    </tr>\n",
              "    <tr>\n",
              "      <th>20635</th>\n",
              "      <td>1.5603</td>\n",
              "      <td>25.0</td>\n",
              "      <td>5.045455</td>\n",
              "      <td>1.133333</td>\n",
              "      <td>845.0</td>\n",
              "      <td>2.560606</td>\n",
              "      <td>39.48</td>\n",
              "      <td>-121.09</td>\n",
              "    </tr>\n",
              "    <tr>\n",
              "      <th>20636</th>\n",
              "      <td>2.5568</td>\n",
              "      <td>18.0</td>\n",
              "      <td>6.114035</td>\n",
              "      <td>1.315789</td>\n",
              "      <td>356.0</td>\n",
              "      <td>3.122807</td>\n",
              "      <td>39.49</td>\n",
              "      <td>-121.21</td>\n",
              "    </tr>\n",
              "    <tr>\n",
              "      <th>20637</th>\n",
              "      <td>1.7000</td>\n",
              "      <td>17.0</td>\n",
              "      <td>5.205543</td>\n",
              "      <td>1.120092</td>\n",
              "      <td>1007.0</td>\n",
              "      <td>2.325635</td>\n",
              "      <td>39.43</td>\n",
              "      <td>-121.22</td>\n",
              "    </tr>\n",
              "    <tr>\n",
              "      <th>20638</th>\n",
              "      <td>1.8672</td>\n",
              "      <td>18.0</td>\n",
              "      <td>5.329513</td>\n",
              "      <td>1.171920</td>\n",
              "      <td>741.0</td>\n",
              "      <td>2.123209</td>\n",
              "      <td>39.43</td>\n",
              "      <td>-121.32</td>\n",
              "    </tr>\n",
              "    <tr>\n",
              "      <th>20639</th>\n",
              "      <td>2.3886</td>\n",
              "      <td>16.0</td>\n",
              "      <td>5.254717</td>\n",
              "      <td>1.162264</td>\n",
              "      <td>1387.0</td>\n",
              "      <td>2.616981</td>\n",
              "      <td>39.37</td>\n",
              "      <td>-121.24</td>\n",
              "    </tr>\n",
              "  </tbody>\n",
              "</table>\n",
              "<p>20640 rows × 8 columns</p>\n",
              "</div>\n",
              "      <button class=\"colab-df-convert\" onclick=\"convertToInteractive('df-13b71452-5fbc-42b5-a4e9-d6847e8068b1')\"\n",
              "              title=\"Convert this dataframe to an interactive table.\"\n",
              "              style=\"display:none;\">\n",
              "\n",
              "  <svg xmlns=\"http://www.w3.org/2000/svg\" height=\"24px\"viewBox=\"0 0 24 24\"\n",
              "       width=\"24px\">\n",
              "    <path d=\"M0 0h24v24H0V0z\" fill=\"none\"/>\n",
              "    <path d=\"M18.56 5.44l.94 2.06.94-2.06 2.06-.94-2.06-.94-.94-2.06-.94 2.06-2.06.94zm-11 1L8.5 8.5l.94-2.06 2.06-.94-2.06-.94L8.5 2.5l-.94 2.06-2.06.94zm10 10l.94 2.06.94-2.06 2.06-.94-2.06-.94-.94-2.06-.94 2.06-2.06.94z\"/><path d=\"M17.41 7.96l-1.37-1.37c-.4-.4-.92-.59-1.43-.59-.52 0-1.04.2-1.43.59L10.3 9.45l-7.72 7.72c-.78.78-.78 2.05 0 2.83L4 21.41c.39.39.9.59 1.41.59.51 0 1.02-.2 1.41-.59l7.78-7.78 2.81-2.81c.8-.78.8-2.07 0-2.86zM5.41 20L4 18.59l7.72-7.72 1.47 1.35L5.41 20z\"/>\n",
              "  </svg>\n",
              "      </button>\n",
              "\n",
              "\n",
              "\n",
              "    <div id=\"df-1bd95ad3-f232-49bb-a6aa-2fbad1d70822\">\n",
              "      <button class=\"colab-df-quickchart\" onclick=\"quickchart('df-1bd95ad3-f232-49bb-a6aa-2fbad1d70822')\"\n",
              "              title=\"Suggest charts.\"\n",
              "              style=\"display:none;\">\n",
              "\n",
              "<svg xmlns=\"http://www.w3.org/2000/svg\" height=\"24px\"viewBox=\"0 0 24 24\"\n",
              "     width=\"24px\">\n",
              "    <g>\n",
              "        <path d=\"M19 3H5c-1.1 0-2 .9-2 2v14c0 1.1.9 2 2 2h14c1.1 0 2-.9 2-2V5c0-1.1-.9-2-2-2zM9 17H7v-7h2v7zm4 0h-2V7h2v10zm4 0h-2v-4h2v4z\"/>\n",
              "    </g>\n",
              "</svg>\n",
              "      </button>\n",
              "    </div>\n",
              "\n",
              "<style>\n",
              "  .colab-df-quickchart {\n",
              "    background-color: #E8F0FE;\n",
              "    border: none;\n",
              "    border-radius: 50%;\n",
              "    cursor: pointer;\n",
              "    display: none;\n",
              "    fill: #1967D2;\n",
              "    height: 32px;\n",
              "    padding: 0 0 0 0;\n",
              "    width: 32px;\n",
              "  }\n",
              "\n",
              "  .colab-df-quickchart:hover {\n",
              "    background-color: #E2EBFA;\n",
              "    box-shadow: 0px 1px 2px rgba(60, 64, 67, 0.3), 0px 1px 3px 1px rgba(60, 64, 67, 0.15);\n",
              "    fill: #174EA6;\n",
              "  }\n",
              "\n",
              "  [theme=dark] .colab-df-quickchart {\n",
              "    background-color: #3B4455;\n",
              "    fill: #D2E3FC;\n",
              "  }\n",
              "\n",
              "  [theme=dark] .colab-df-quickchart:hover {\n",
              "    background-color: #434B5C;\n",
              "    box-shadow: 0px 1px 3px 1px rgba(0, 0, 0, 0.15);\n",
              "    filter: drop-shadow(0px 1px 2px rgba(0, 0, 0, 0.3));\n",
              "    fill: #FFFFFF;\n",
              "  }\n",
              "</style>\n",
              "\n",
              "    <script>\n",
              "      async function quickchart(key) {\n",
              "        const containerElement = document.querySelector('#' + key);\n",
              "        const charts = await google.colab.kernel.invokeFunction(\n",
              "            'suggestCharts', [key], {});\n",
              "      }\n",
              "    </script>\n",
              "\n",
              "      <script>\n",
              "\n",
              "function displayQuickchartButton(domScope) {\n",
              "  let quickchartButtonEl =\n",
              "    domScope.querySelector('#df-1bd95ad3-f232-49bb-a6aa-2fbad1d70822 button.colab-df-quickchart');\n",
              "  quickchartButtonEl.style.display =\n",
              "    google.colab.kernel.accessAllowed ? 'block' : 'none';\n",
              "}\n",
              "\n",
              "        displayQuickchartButton(document);\n",
              "      </script>\n",
              "      <style>\n",
              "    .colab-df-container {\n",
              "      display:flex;\n",
              "      flex-wrap:wrap;\n",
              "      gap: 12px;\n",
              "    }\n",
              "\n",
              "    .colab-df-convert {\n",
              "      background-color: #E8F0FE;\n",
              "      border: none;\n",
              "      border-radius: 50%;\n",
              "      cursor: pointer;\n",
              "      display: none;\n",
              "      fill: #1967D2;\n",
              "      height: 32px;\n",
              "      padding: 0 0 0 0;\n",
              "      width: 32px;\n",
              "    }\n",
              "\n",
              "    .colab-df-convert:hover {\n",
              "      background-color: #E2EBFA;\n",
              "      box-shadow: 0px 1px 2px rgba(60, 64, 67, 0.3), 0px 1px 3px 1px rgba(60, 64, 67, 0.15);\n",
              "      fill: #174EA6;\n",
              "    }\n",
              "\n",
              "    [theme=dark] .colab-df-convert {\n",
              "      background-color: #3B4455;\n",
              "      fill: #D2E3FC;\n",
              "    }\n",
              "\n",
              "    [theme=dark] .colab-df-convert:hover {\n",
              "      background-color: #434B5C;\n",
              "      box-shadow: 0px 1px 3px 1px rgba(0, 0, 0, 0.15);\n",
              "      filter: drop-shadow(0px 1px 2px rgba(0, 0, 0, 0.3));\n",
              "      fill: #FFFFFF;\n",
              "    }\n",
              "  </style>\n",
              "\n",
              "      <script>\n",
              "        const buttonEl =\n",
              "          document.querySelector('#df-13b71452-5fbc-42b5-a4e9-d6847e8068b1 button.colab-df-convert');\n",
              "        buttonEl.style.display =\n",
              "          google.colab.kernel.accessAllowed ? 'block' : 'none';\n",
              "\n",
              "        async function convertToInteractive(key) {\n",
              "          const element = document.querySelector('#df-13b71452-5fbc-42b5-a4e9-d6847e8068b1');\n",
              "          const dataTable =\n",
              "            await google.colab.kernel.invokeFunction('convertToInteractive',\n",
              "                                                     [key], {});\n",
              "          if (!dataTable) return;\n",
              "\n",
              "          const docLinkHtml = 'Like what you see? Visit the ' +\n",
              "            '<a target=\"_blank\" href=https://colab.research.google.com/notebooks/data_table.ipynb>data table notebook</a>'\n",
              "            + ' to learn more about interactive tables.';\n",
              "          element.innerHTML = '';\n",
              "          dataTable['output_type'] = 'display_data';\n",
              "          await google.colab.output.renderOutput(dataTable, element);\n",
              "          const docLink = document.createElement('div');\n",
              "          docLink.innerHTML = docLinkHtml;\n",
              "          element.appendChild(docLink);\n",
              "        }\n",
              "      </script>\n",
              "    </div>\n",
              "  </div>\n"
            ]
          },
          "metadata": {},
          "execution_count": 41
        }
      ]
    },
    {
      "cell_type": "code",
      "source": [
        "y=california_housing.target"
      ],
      "metadata": {
        "id": "prk_5uVvNi1r"
      },
      "execution_count": null,
      "outputs": []
    },
    {
      "cell_type": "code",
      "source": [
        "y"
      ],
      "metadata": {
        "colab": {
          "base_uri": "https://localhost:8080/"
        },
        "id": "1rBSFFpVNmr2",
        "outputId": "2c79d3d3-10f7-42ce-a194-c654a6d573b6"
      },
      "execution_count": null,
      "outputs": [
        {
          "output_type": "execute_result",
          "data": {
            "text/plain": [
              "0        4.526\n",
              "1        3.585\n",
              "2        3.521\n",
              "3        3.413\n",
              "4        3.422\n",
              "         ...  \n",
              "20635    0.781\n",
              "20636    0.771\n",
              "20637    0.923\n",
              "20638    0.847\n",
              "20639    0.894\n",
              "Name: MedHouseVal, Length: 20640, dtype: float64"
            ]
          },
          "metadata": {},
          "execution_count": 43
        }
      ]
    },
    {
      "cell_type": "code",
      "source": [
        "X.isna().sum()"
      ],
      "metadata": {
        "colab": {
          "base_uri": "https://localhost:8080/"
        },
        "id": "YbcO9HqCNnix",
        "outputId": "30516713-6a12-4061-9822-9ed16db1bb89"
      },
      "execution_count": null,
      "outputs": [
        {
          "output_type": "execute_result",
          "data": {
            "text/plain": [
              "MedInc        0\n",
              "HouseAge      0\n",
              "AveRooms      0\n",
              "AveBedrms     0\n",
              "Population    0\n",
              "AveOccup      0\n",
              "Latitude      0\n",
              "Longitude     0\n",
              "dtype: int64"
            ]
          },
          "metadata": {},
          "execution_count": 44
        }
      ]
    },
    {
      "cell_type": "code",
      "source": [
        "#lets see distribution of target variable\n",
        "import matplotlib.pyplot as plt\n",
        "import seaborn as sns"
      ],
      "metadata": {
        "id": "wX5VZA37NsnS"
      },
      "execution_count": null,
      "outputs": []
    },
    {
      "cell_type": "code",
      "source": [
        "sns.kdeplot(y)"
      ],
      "metadata": {
        "colab": {
          "base_uri": "https://localhost:8080/",
          "height": 467
        },
        "id": "UJcK99U2N0m0",
        "outputId": "3116718e-836d-4510-9f68-f8adf7ab7b6e"
      },
      "execution_count": null,
      "outputs": [
        {
          "output_type": "execute_result",
          "data": {
            "text/plain": [
              "<Axes: xlabel='MedHouseVal', ylabel='Density'>"
            ]
          },
          "metadata": {},
          "execution_count": 47
        },
        {
          "output_type": "display_data",
          "data": {
            "text/plain": [
              "<Figure size 640x480 with 1 Axes>"
            ],
            "image/png": "[encoded data removed]"
          },
          "metadata": {}
        }
      ]
    },
    {
      "cell_type": "code",
      "source": [
        "# Create a KDE plot for each feature\n",
        "fig, axs = plt.subplots(2, 4, figsize=(15, 8))\n",
        "fig.suptitle('Distribution of Features')\n",
        "\n",
        "# Plot each feature's KDE plot in a separate subplot\n",
        "for i, feature in enumerate(X.columns):\n",
        "    sns.kdeplot(X[feature], ax=axs[i//4, i%4])\n",
        "    axs[i//4, i%4].set_title(feature)\n",
        "\n",
        "# Adjust spacing between subplots and display the plot\n",
        "plt.tight_layout()\n",
        "plt.show()"
      ],
      "metadata": {
        "colab": {
          "base_uri": "https://localhost:8080/",
          "height": 674
        },
        "id": "8EfXiPtxN2H_",
        "outputId": "840bf485-9b59-47aa-accc-2d039915a28f"
      },
      "execution_count": null,
      "outputs": [
        {
          "output_type": "display_data",
          "data": {
            "text/plain": [
              "<Figure size 1500x800 with 8 Axes>"
            ],
            "image/png": "[encoded data removed]"
          },
          "metadata": {}
        }
      ]
    },
    {
      "cell_type": "code",
      "source": [
        "X.describe()"
      ],
      "metadata": {
        "colab": {
          "base_uri": "https://localhost:8080/",
          "height": 300
        },
        "id": "uzQiVQxrPd5o",
        "outputId": "23b8baf5-eb18-469e-969b-70b349705a89"
      },
      "execution_count": null,
      "outputs": [
        {
          "output_type": "execute_result",
          "data": {
            "text/plain": [
              "             MedInc      HouseAge      AveRooms     AveBedrms    Population  \\\n",
              "count  20640.000000  20640.000000  20640.000000  20640.000000  20640.000000   \n",
              "mean       3.870671     28.639486      5.429000      1.096675   1425.476744   \n",
              "std        1.899822     12.585558      2.474173      0.473911   1132.462122   \n",
              "min        0.499900      1.000000      0.846154      0.333333      3.000000   \n",
              "25%        2.563400     18.000000      4.440716      1.006079    787.000000   \n",
              "50%        3.534800     29.000000      5.229129      1.048780   1166.000000   \n",
              "75%        4.743250     37.000000      6.052381      1.099526   1725.000000   \n",
              "max       15.000100     52.000000    141.909091     34.066667  35682.000000   \n",
              "\n",
              "           AveOccup      Latitude     Longitude  \n",
              "count  20640.000000  20640.000000  20640.000000  \n",
              "mean       3.070655     35.631861   -119.569704  \n",
              "std       10.386050      2.135952      2.003532  \n",
              "min        0.692308     32.540000   -124.350000  \n",
              "25%        2.429741     33.930000   -121.800000  \n",
              "50%        2.818116     34.260000   -118.490000  \n",
              "75%        3.282261     37.710000   -118.010000  \n",
              "max     1243.333333     41.950000   -114.310000  "
            ],
            "text/html": [
              "\n",
              "\n",
              "  <div id=\"df-f3c09508-4e41-4b08-8cf4-10efc0dfb1a2\">\n",
              "    <div class=\"colab-df-container\">\n",
              "      <div>\n",
              "<style scoped>\n",
              "    .dataframe tbody tr th:only-of-type {\n",
              "        vertical-align: middle;\n",
              "    }\n",
              "\n",
              "    .dataframe tbody tr th {\n",
              "        vertical-align: top;\n",
              "    }\n",
              "\n",
              "    .dataframe thead th {\n",
              "        text-align: right;\n",
              "    }\n",
              "</style>\n",
              "<table border=\"1\" class=\"dataframe\">\n",
              "  <thead>\n",
              "    <tr style=\"text-align: right;\">\n",
              "      <th></th>\n",
              "      <th>MedInc</th>\n",
              "      <th>HouseAge</th>\n",
              "      <th>AveRooms</th>\n",
              "      <th>AveBedrms</th>\n",
              "      <th>Population</th>\n",
              "      <th>AveOccup</th>\n",
              "      <th>Latitude</th>\n",
              "      <th>Longitude</th>\n",
              "    </tr>\n",
              "  </thead>\n",
              "  <tbody>\n",
              "    <tr>\n",
              "      <th>count</th>\n",
              "      <td>20640.000000</td>\n",
              "      <td>20640.000000</td>\n",
              "      <td>20640.000000</td>\n",
              "      <td>20640.000000</td>\n",
              "      <td>20640.000000</td>\n",
              "      <td>20640.000000</td>\n",
              "      <td>20640.000000</td>\n",
              "      <td>20640.000000</td>\n",
              "    </tr>\n",
              "    <tr>\n",
              "      <th>mean</th>\n",
              "      <td>3.870671</td>\n",
              "      <td>28.639486</td>\n",
              "      <td>5.429000</td>\n",
              "      <td>1.096675</td>\n",
              "      <td>1425.476744</td>\n",
              "      <td>3.070655</td>\n",
              "      <td>35.631861</td>\n",
              "      <td>-119.569704</td>\n",
              "    </tr>\n",
              "    <tr>\n",
              "      <th>std</th>\n",
              "      <td>1.899822</td>\n",
              "      <td>12.585558</td>\n",
              "      <td>2.474173</td>\n",
              "      <td>0.473911</td>\n",
              "      <td>1132.462122</td>\n",
              "      <td>10.386050</td>\n",
              "      <td>2.135952</td>\n",
              "      <td>2.003532</td>\n",
              "    </tr>\n",
              "    <tr>\n",
              "      <th>min</th>\n",
              "      <td>0.499900</td>\n",
              "      <td>1.000000</td>\n",
              "      <td>0.846154</td>\n",
              "      <td>0.333333</td>\n",
              "      <td>3.000000</td>\n",
              "      <td>0.692308</td>\n",
              "      <td>32.540000</td>\n",
              "      <td>-124.350000</td>\n",
              "    </tr>\n",
              "    <tr>\n",
              "      <th>25%</th>\n",
              "      <td>2.563400</td>\n",
              "      <td>18.000000</td>\n",
              "      <td>4.440716</td>\n",
              "      <td>1.006079</td>\n",
              "      <td>787.000000</td>\n",
              "      <td>2.429741</td>\n",
              "      <td>33.930000</td>\n",
              "      <td>-121.800000</td>\n",
              "    </tr>\n",
              "    <tr>\n",
              "      <th>50%</th>\n",
              "      <td>3.534800</td>\n",
              "      <td>29.000000</td>\n",
              "      <td>5.229129</td>\n",
              "      <td>1.048780</td>\n",
              "      <td>1166.000000</td>\n",
              "      <td>2.818116</td>\n",
              "      <td>34.260000</td>\n",
              "      <td>-118.490000</td>\n",
              "    </tr>\n",
              "    <tr>\n",
              "      <th>75%</th>\n",
              "      <td>4.743250</td>\n",
              "      <td>37.000000</td>\n",
              "      <td>6.052381</td>\n",
              "      <td>1.099526</td>\n",
              "      <td>1725.000000</td>\n",
              "      <td>3.282261</td>\n",
              "      <td>37.710000</td>\n",
              "      <td>-118.010000</td>\n",
              "    </tr>\n",
              "    <tr>\n",
              "      <th>max</th>\n",
              "      <td>15.000100</td>\n",
              "      <td>52.000000</td>\n",
              "      <td>141.909091</td>\n",
              "      <td>34.066667</td>\n",
              "      <td>35682.000000</td>\n",
              "      <td>1243.333333</td>\n",
              "      <td>41.950000</td>\n",
              "      <td>-114.310000</td>\n",
              "    </tr>\n",
              "  </tbody>\n",
              "</table>\n",
              "</div>\n",
              "      <button class=\"colab-df-convert\" onclick=\"convertToInteractive('df-f3c09508-4e41-4b08-8cf4-10efc0dfb1a2')\"\n",
              "              title=\"Convert this dataframe to an interactive table.\"\n",
              "              style=\"display:none;\">\n",
              "\n",
              "  <svg xmlns=\"http://www.w3.org/2000/svg\" height=\"24px\"viewBox=\"0 0 24 24\"\n",
              "       width=\"24px\">\n",
              "    <path d=\"M0 0h24v24H0V0z\" fill=\"none\"/>\n",
              "    <path d=\"M18.56 5.44l.94 2.06.94-2.06 2.06-.94-2.06-.94-.94-2.06-.94 2.06-2.06.94zm-11 1L8.5 8.5l.94-2.06 2.06-.94-2.06-.94L8.5 2.5l-.94 2.06-2.06.94zm10 10l.94 2.06.94-2.06 2.06-.94-2.06-.94-.94-2.06-.94 2.06-2.06.94z\"/><path d=\"M17.41 7.96l-1.37-1.37c-.4-.4-.92-.59-1.43-.59-.52 0-1.04.2-1.43.59L10.3 9.45l-7.72 7.72c-.78.78-.78 2.05 0 2.83L4 21.41c.39.39.9.59 1.41.59.51 0 1.02-.2 1.41-.59l7.78-7.78 2.81-2.81c.8-.78.8-2.07 0-2.86zM5.41 20L4 18.59l7.72-7.72 1.47 1.35L5.41 20z\"/>\n",
              "  </svg>\n",
              "      </button>\n",
              "\n",
              "\n",
              "\n",
              "    <div id=\"df-421cc6d6-1d84-41d1-9dbe-d09d42b8ef58\">\n",
              "      <button class=\"colab-df-quickchart\" onclick=\"quickchart('df-421cc6d6-1d84-41d1-9dbe-d09d42b8ef58')\"\n",
              "              title=\"Suggest charts.\"\n",
              "              style=\"display:none;\">\n",
              "\n",
              "<svg xmlns=\"http://www.w3.org/2000/svg\" height=\"24px\"viewBox=\"0 0 24 24\"\n",
              "     width=\"24px\">\n",
              "    <g>\n",
              "        <path d=\"M19 3H5c-1.1 0-2 .9-2 2v14c0 1.1.9 2 2 2h14c1.1 0 2-.9 2-2V5c0-1.1-.9-2-2-2zM9 17H7v-7h2v7zm4 0h-2V7h2v10zm4 0h-2v-4h2v4z\"/>\n",
              "    </g>\n",
              "</svg>\n",
              "      </button>\n",
              "    </div>\n",
              "\n",
              "<style>\n",
              "  .colab-df-quickchart {\n",
              "    background-color: #E8F0FE;\n",
              "    border: none;\n",
              "    border-radius: 50%;\n",
              "    cursor: pointer;\n",
              "    display: none;\n",
              "    fill: #1967D2;\n",
              "    height: 32px;\n",
              "    padding: 0 0 0 0;\n",
              "    width: 32px;\n",
              "  }\n",
              "\n",
              "  .colab-df-quickchart:hover {\n",
              "    background-color: #E2EBFA;\n",
              "    box-shadow: 0px 1px 2px rgba(60, 64, 67, 0.3), 0px 1px 3px 1px rgba(60, 64, 67, 0.15);\n",
              "    fill: #174EA6;\n",
              "  }\n",
              "\n",
              "  [theme=dark] .colab-df-quickchart {\n",
              "    background-color: #3B4455;\n",
              "    fill: #D2E3FC;\n",
              "  }\n",
              "\n",
              "  [theme=dark] .colab-df-quickchart:hover {\n",
              "    background-color: #434B5C;\n",
              "    box-shadow: 0px 1px 3px 1px rgba(0, 0, 0, 0.15);\n",
              "    filter: drop-shadow(0px 1px 2px rgba(0, 0, 0, 0.3));\n",
              "    fill: #FFFFFF;\n",
              "  }\n",
              "</style>\n",
              "\n",
              "    <script>\n",
              "      async function quickchart(key) {\n",
              "        const containerElement = document.querySelector('#' + key);\n",
              "        const charts = await google.colab.kernel.invokeFunction(\n",
              "            'suggestCharts', [key], {});\n",
              "      }\n",
              "    </script>\n",
              "\n",
              "      <script>\n",
              "\n",
              "function displayQuickchartButton(domScope) {\n",
              "  let quickchartButtonEl =\n",
              "    domScope.querySelector('#df-421cc6d6-1d84-41d1-9dbe-d09d42b8ef58 button.colab-df-quickchart');\n",
              "  quickchartButtonEl.style.display =\n",
              "    google.colab.kernel.accessAllowed ? 'block' : 'none';\n",
              "}\n",
              "\n",
              "        displayQuickchartButton(document);\n",
              "      </script>\n",
              "      <style>\n",
              "    .colab-df-container {\n",
              "      display:flex;\n",
              "      flex-wrap:wrap;\n",
              "      gap: 12px;\n",
              "    }\n",
              "\n",
              "    .colab-df-convert {\n",
              "      background-color: #E8F0FE;\n",
              "      border: none;\n",
              "      border-radius: 50%;\n",
              "      cursor: pointer;\n",
              "      display: none;\n",
              "      fill: #1967D2;\n",
              "      height: 32px;\n",
              "      padding: 0 0 0 0;\n",
              "      width: 32px;\n",
              "    }\n",
              "\n",
              "    .colab-df-convert:hover {\n",
              "      background-color: #E2EBFA;\n",
              "      box-shadow: 0px 1px 2px rgba(60, 64, 67, 0.3), 0px 1px 3px 1px rgba(60, 64, 67, 0.15);\n",
              "      fill: #174EA6;\n",
              "    }\n",
              "\n",
              "    [theme=dark] .colab-df-convert {\n",
              "      background-color: #3B4455;\n",
              "      fill: #D2E3FC;\n",
              "    }\n",
              "\n",
              "    [theme=dark] .colab-df-convert:hover {\n",
              "      background-color: #434B5C;\n",
              "      box-shadow: 0px 1px 3px 1px rgba(0, 0, 0, 0.15);\n",
              "      filter: drop-shadow(0px 1px 2px rgba(0, 0, 0, 0.3));\n",
              "      fill: #FFFFFF;\n",
              "    }\n",
              "  </style>\n",
              "\n",
              "      <script>\n",
              "        const buttonEl =\n",
              "          document.querySelector('#df-f3c09508-4e41-4b08-8cf4-10efc0dfb1a2 button.colab-df-convert');\n",
              "        buttonEl.style.display =\n",
              "          google.colab.kernel.accessAllowed ? 'block' : 'none';\n",
              "\n",
              "        async function convertToInteractive(key) {\n",
              "          const element = document.querySelector('#df-f3c09508-4e41-4b08-8cf4-10efc0dfb1a2');\n",
              "          const dataTable =\n",
              "            await google.colab.kernel.invokeFunction('convertToInteractive',\n",
              "                                                     [key], {});\n",
              "          if (!dataTable) return;\n",
              "\n",
              "          const docLinkHtml = 'Like what you see? Visit the ' +\n",
              "            '<a target=\"_blank\" href=https://colab.research.google.com/notebooks/data_table.ipynb>data table notebook</a>'\n",
              "            + ' to learn more about interactive tables.';\n",
              "          element.innerHTML = '';\n",
              "          dataTable['output_type'] = 'display_data';\n",
              "          await google.colab.output.renderOutput(dataTable, element);\n",
              "          const docLink = document.createElement('div');\n",
              "          docLink.innerHTML = docLinkHtml;\n",
              "          element.appendChild(docLink);\n",
              "        }\n",
              "      </script>\n",
              "    </div>\n",
              "  </div>\n"
            ]
          },
          "metadata": {},
          "execution_count": 56
        }
      ]
    },
    {
      "cell_type": "code",
      "source": [
        "#Since data is not in same scale let do scaler transformation"
      ],
      "metadata": {
        "id": "G4sWG58RQYPV"
      },
      "execution_count": null,
      "outputs": []
    },
    {
      "cell_type": "code",
      "source": [
        "\n",
        "# Create boxplots for each feature\n",
        "fig, axs = plt.subplots(2, 4, figsize=(15, 8))\n",
        "fig.suptitle('Boxplots of Features')\n",
        "\n",
        "# Plot each feature's boxplot in a separate subplot\n",
        "for i, feature in enumerate(X.columns):\n",
        "    axs[i//4, i%4].boxplot(X[feature])\n",
        "    axs[i//4, i%4].set_title(feature)\n",
        "\n",
        "# Adjust spacing between subplots and display the plot\n",
        "plt.tight_layout()\n",
        "plt.show()"
      ],
      "metadata": {
        "colab": {
          "base_uri": "https://localhost:8080/",
          "height": 674
        },
        "id": "0PYNd4vRQmAF",
        "outputId": "7440953c-9225-4225-b16d-1890bea22476"
      },
      "execution_count": null,
      "outputs": [
        {
          "output_type": "display_data",
          "data": {
            "text/plain": [
              "<Figure size 1500x800 with 8 Axes>"
            ],
            "image/png": "[encoded data removed]"
          },
          "metadata": {}
        }
      ]
    },
    {
      "cell_type": "code",
      "source": [
        "#Since out dataset contain outliers we will use bust scaler\n",
        "from sklearn.preprocessing import RobustScaler"
      ],
      "metadata": {
        "id": "dtJ6-m81Q1SG"
      },
      "execution_count": null,
      "outputs": []
    },
    {
      "cell_type": "code",
      "source": [
        "robust_scaler=RobustScaler()"
      ],
      "metadata": {
        "id": "24iYYhAXREbE"
      },
      "execution_count": null,
      "outputs": []
    },
    {
      "cell_type": "code",
      "source": [
        "X_train,X_test,y_train,y_test=train_test_split(X,y,random_state=42,test_size=0.2)"
      ],
      "metadata": {
        "id": "gjmh3e5pRKE-"
      },
      "execution_count": null,
      "outputs": []
    },
    {
      "cell_type": "code",
      "source": [
        "X_train_scaled=robust_scaler.fit_transform(X_train)"
      ],
      "metadata": {
        "id": "A2I-SfXIRWmR"
      },
      "execution_count": null,
      "outputs": []
    },
    {
      "cell_type": "code",
      "source": [
        "X_test_scaled=robust_scaler.fit_transform(X_test)"
      ],
      "metadata": {
        "id": "0lluAAjoRjpq"
      },
      "execution_count": null,
      "outputs": []
    },
    {
      "cell_type": "code",
      "source": [
        "from sklearn.svm import SVR"
      ],
      "metadata": {
        "id": "tbqysidaR0MR"
      },
      "execution_count": null,
      "outputs": []
    },
    {
      "cell_type": "code",
      "source": [
        "svr1 = SVR()\n",
        "svr1.fit(X_train_scaled, y_train)\n",
        "s3 = svr1.score(X_train_scaled, y_train)\n",
        "s4 = svr1.score(X_test_scaled, y_test)"
      ],
      "metadata": {
        "id": "_xmfWkDuRnzO"
      },
      "execution_count": null,
      "outputs": []
    },
    {
      "cell_type": "code",
      "source": [
        "s3"
      ],
      "metadata": {
        "colab": {
          "base_uri": "https://localhost:8080/"
        },
        "id": "5_9O2DWpR8sr",
        "outputId": "14d345a2-c65d-43e4-c0af-4a1b751bc80c"
      },
      "execution_count": null,
      "outputs": [
        {
          "output_type": "execute_result",
          "data": {
            "text/plain": [
              "0.6819789484588124"
            ]
          },
          "metadata": {},
          "execution_count": 79
        }
      ]
    },
    {
      "cell_type": "code",
      "source": [
        "s4"
      ],
      "metadata": {
        "colab": {
          "base_uri": "https://localhost:8080/"
        },
        "id": "0tAfhjF0SG1k",
        "outputId": "3733b093-5fa2-45f6-ba21-fa1fb58a7f6a"
      },
      "execution_count": null,
      "outputs": [
        {
          "output_type": "execute_result",
          "data": {
            "text/plain": [
              "0.6654141066226703"
            ]
          },
          "metadata": {},
          "execution_count": 80
        }
      ]
    },
    {
      "cell_type": "code",
      "source": [
        "svr2 = SVR(gamma=10)\n",
        "svr2.fit(X_train_scaled, y_train)\n",
        "s5 = svr2.score(X_train_scaled, y_train)\n",
        "s6 = svr2.score(X_test_scaled, y_test)"
      ],
      "metadata": {
        "id": "iBSsz_5hSINx"
      },
      "execution_count": null,
      "outputs": []
    },
    {
      "cell_type": "code",
      "source": [
        "s5"
      ],
      "metadata": {
        "colab": {
          "base_uri": "https://localhost:8080/"
        },
        "id": "D0U7PtoPUmQU",
        "outputId": "af208c96-852a-49be-ea6f-ea8dd0f7c9bb"
      },
      "execution_count": null,
      "outputs": [
        {
          "output_type": "execute_result",
          "data": {
            "text/plain": [
              "0.8052432075210771"
            ]
          },
          "metadata": {},
          "execution_count": 82
        }
      ]
    },
    {
      "cell_type": "code",
      "source": [
        "s6"
      ],
      "metadata": {
        "colab": {
          "base_uri": "https://localhost:8080/"
        },
        "id": "kUaDNdeOUnej",
        "outputId": "50d8d007-409a-4453-b338-a2623566ab32"
      },
      "execution_count": null,
      "outputs": [
        {
          "output_type": "execute_result",
          "data": {
            "text/plain": [
              "0.23635402073209255"
            ]
          },
          "metadata": {},
          "execution_count": 83
        }
      ]
    },
    {
      "cell_type": "code",
      "source": [
        "from sklearn.preprocessing import StandardScaler\n",
        "scaler=StandardScaler()"
      ],
      "metadata": {
        "id": "Ts0UewlLUoxg"
      },
      "execution_count": null,
      "outputs": []
    },
    {
      "cell_type": "code",
      "source": [
        "X_train_scaled_standard= scaler.fit_transform(X_train)\n",
        "X_test_scaled_standard = scaler.transform(X_test)"
      ],
      "metadata": {
        "id": "IUuqGfUNWSpt"
      },
      "execution_count": null,
      "outputs": []
    },
    {
      "cell_type": "code",
      "source": [
        "# Hyperparameter tuning with GridSearchCV\n",
        "parameters = {\n",
        "    'kernel': ['linear', 'rbf', 'poly'],\n",
        "    'C': [0.1, 1, 10],\n",
        "    'gamma': [0.1, 1, 10]\n",
        "}"
      ],
      "metadata": {
        "id": "Gtu5TX-lW05E"
      },
      "execution_count": null,
      "outputs": []
    },
    {
      "cell_type": "code",
      "source": [
        "from sklearn.model_selection import train_test_split, GridSearchCV\n",
        "svr = SVR()\n",
        "grid_search = GridSearchCV(svr, parameters, scoring='r2', cv=5)\n",
        "grid_search.fit(X_train_scaled, y_train)"
      ],
      "metadata": {
        "id": "yo6seqcnW2xq"
      },
      "execution_count": null,
      "outputs": []
    },
    {
      "cell_type": "code",
      "source": [
        "# Get the best SVR model from the grid search\n",
        "best_svr = grid_search.best_estimator_\n",
        "\n",
        "# Make predictions on the test set\n",
        "y_pred = best_svr.predict(X_test_scaled)"
      ],
      "metadata": {
        "id": "INNRV-ggW5Gg"
      },
      "execution_count": null,
      "outputs": []
    },
    {
      "cell_type": "code",
      "source": [
        "# Calculate R2 score on the test set\n",
        "r2_test = r2_score(y_test, y_pred)\n",
        "print(\"R2 score on test data:\", r2_test)"
      ],
      "metadata": {
        "id": "v9Dxo63GXE5o"
      },
      "execution_count": null,
      "outputs": []
    }
  ]
}