{
 "cells": [
  {
   "cell_type": "markdown",
   "id": "53a6fcb8-bac5-40cd-9294-936fe3f0c192",
   "metadata": {},
   "source": [
    "1. What does one mean by the term \"machine learning\"?"
   ]
  },
  {
   "cell_type": "raw",
   "id": "63ae3c22-3f38-496c-9b95-0cff4d814511",
   "metadata": {},
   "source": [
    "Ans:a “Field of study that gives computers the capability to learn without being explicitly programmed” is a machine learning "
   ]
  },
  {
   "cell_type": "markdown",
   "id": "8466525f-58cd-4cc1-bc02-efe506ab8d4a",
   "metadata": {},
   "source": [
    "2.Can you think of 4 distinct types of issues where it shines?"
   ]
  },
  {
   "cell_type": "raw",
   "id": "fcd3920d-49f5-436a-a6b2-bf9fb1989d2c",
   "metadata": {},
   "source": [
    "ANs:\n",
    "Image Recognition: Image recognition is one of the most common applications of machine learning. It is used to identify objects, persons, places, digital images, etc. The popular use case of image recognition and face detection is Automatic friend tagging suggestion.\n",
    "\n",
    "Speech Recognition: While using Google, we get an option of Search by voice, it comes under speech recognition, and it's a popular application of Machine Learning. Speech recognition is a process of converting voice instructions into text, and it is also known as Speech to text, or Computer based speech recognition At present, machine learning algorithms are widely used by various applications of speech recognition. Google assistant, Siri, Cortana, and Alexa are using speech recognition technology to follow the voice instructions.\n",
    "\n",
    "Traffic prediction: It predicts the traffic conditions such as whether traffic is cleared, slow-moving, or heavily congested with the help of two ways: Real Time location of the vehicle form Google Map app and sensors Average time has taken on past days at the same time.\n",
    "\n",
    "Product recommendations: Machine learning is widely used by various e-commerce and entertainment companies such as Amazon, Netflix, etc., for product recommendation to the user."
   ]
  },
  {
   "cell_type": "markdown",
   "id": "78f2ba6d-4626-4713-acfd-df09eddba59e",
   "metadata": {},
   "source": [
    "3.What is a labeled training set, and how does it work?"
   ]
  },
  {
   "cell_type": "raw",
   "id": "5f3a59a6-c297-4dd2-8e8f-5138f23b4af5",
   "metadata": {},
   "source": [
    "ANS :What is Labelled training data set?\n",
    "Data labeling (or data annotation) is the process of adding target attributes to training data and labeling them so that a machine learning model can learn what predictions it is expected to make. This process is one of the stages in preparing data for supervised machine learning"
   ]
  },
  {
   "cell_type": "markdown",
   "id": "26791e82-1725-49d7-a953-749d6fe2af79",
   "metadata": {},
   "source": [
    "4.What are the two most important tasks that are supervised?"
   ]
  },
  {
   "cell_type": "raw",
   "id": "613de507-727f-4ff4-9918-03e4b8c64f1f",
   "metadata": {},
   "source": [
    "ANS :The two most important tasks that are supervised are Regression and Classification"
   ]
  },
  {
   "cell_type": "markdown",
   "id": "f628cad5-2a5e-440a-a2aa-255ea63d8f15",
   "metadata": {},
   "source": [
    "5.Can you think of four examples of unsupervised tasks?"
   ]
  },
  {
   "cell_type": "raw",
   "id": "ede08d3d-b338-4687-b014-d40074a8c041",
   "metadata": {},
   "source": [
    "ANS :Unsupervised learning is when it can provide a set of unlabelled data, which it is required to analyze and find patterns inside. The examples are dimension reduction and clustering. The training is supported to the machine with the group of data that has not been labeled, classified, or categorized, and the algorithm required to facilitate on that data without some supervision. The objective of unsupervised learning is to restructure the input record into new features or a set of objects with same patterns.\n",
    "Cluster analysis is used to form groups or clusters of the same records depending on various measures made on these records. The key design is to define the clusters in ways that can be useful for the objective of the analysis. This data has been used in several areas, such as astronomy, archaeology, medicine, chemistry, education, psychology, linguistics, and sociology."
   ]
  },
  {
   "cell_type": "markdown",
   "id": "e06857e0-7b97-493d-a6f9-0bbb9732a867",
   "metadata": {},
   "source": [
    "6.State the machine learning model that would be best to make a robot walk through various unfamiliar terrains?"
   ]
  },
  {
   "cell_type": "raw",
   "id": "b708bd6f-2d4f-40dc-a79c-cb2a4fcc3c34",
   "metadata": {},
   "source": [
    "ANS :: The best Machine Learning algorithm to allow a Robot to walk in unfamiliar terrains is Reinforced Learning, where the robot can learn from response of the terrain to optimize itself."
   ]
  },
  {
   "cell_type": "markdown",
   "id": "9aed4ffe-2eca-4b15-88a3-b513eeede6e7",
   "metadata": {},
   "source": [
    "7.Which algorithm will you use to divide your customers into different groups?"
   ]
  },
  {
   "cell_type": "raw",
   "id": "4ac57c7b-31e2-43b5-82c5-034048f62453",
   "metadata": {},
   "source": [
    "ANS :The approach to solve above problem depends on type of data .If it contains labeled data we can use supervised learning algorithm which is classification and if dataset is not labeled we can use unsupervised learning approach like clustering algorithm\n",
    "For example if our dataset problem is to find out customer according to purchasing some product or not .We can consider it as labeled data if purchased product catergory ->1 if not category ->0 then we can use classification aproach in supervised learning \n",
    "if we have to divide customer according to different geographical regions that time no labeling is give we can use unsupervised clustering aprocah"
   ]
  },
  {
   "cell_type": "markdown",
   "id": "93053fff-5ad4-40b0-b38b-ffb639112543",
   "metadata": {},
   "source": [
    "8.Will you consider the problem of spam detection to be a supervised or unsupervised learning problem?"
   ]
  },
  {
   "cell_type": "raw",
   "id": "b1e3c78c-5faf-42da-b7cc-93d87f900030",
   "metadata": {},
   "source": [
    ": Spam detection is a Supervised Machine Learning problem because the labels are known (spam or no spam)."
   ]
  },
  {
   "cell_type": "markdown",
   "id": "a775c2a0-05f7-4098-b36c-c1e8394cf576",
   "metadata": {},
   "source": [
    "9.What is the concept of an online learning system?"
   ]
  },
  {
   "cell_type": "raw",
   "id": "87a73477-edd2-4520-af1f-837730a4d959",
   "metadata": {},
   "source": [
    "ANS :online machine learning is a method of machine learning in which data becomes available in a sequential order and is used to update the best predictor for future data at each step, as opposed to batch learning techniques which generate the best predictor by learning on the entire training data set at once.\n",
    "Online learning is a common technique used in areas of machine learning where it is computationally infeasible to train over the entire dataset, requiring the need of out-of-core algorithms. It is also used in situations where it is necessary for the algorithm to dynamically adapt to new patterns in the data, or when the data itself is generated as a function of time, e.g., stock price prediction. "
   ]
  },
  {
   "cell_type": "markdown",
   "id": "4dcf82fe-4f01-4273-ab95-4868d4c80ed8",
   "metadata": {},
   "source": [
    "10.What is out-of-core learning, and how does it differ from core learning?"
   ]
  },
  {
   "cell_type": "raw",
   "id": "ad583434-2f3b-4f34-a960-9ebb948e220b",
   "metadata": {},
   "source": [
    "Ans:\n",
    "    \n",
    "    \n",
    "    The term out-of-core typically refers to processing data that is too large to fit into a computer's main memory. Typically, when a dataset fits neatly into a computer's main memory, randomly accessing sections of data has a (relatively) small performance penalty.\n",
    "    Out-of-core learning refers to the machine learning algorithms working with data that cannot fit into a single machine's memory but can easily fit into some data storage, such as a local hard disk or web repository.\n",
    "    it uses online learning system to feed data in small bits."
   ]
  },
  {
   "cell_type": "markdown",
   "id": "44bf5ccf-b4ca-4740-88ea-96f8fbb71c8e",
   "metadata": {},
   "source": [
    "11.What kind of learning algorithm makes predictions using a similarity measure?"
   ]
  },
  {
   "cell_type": "raw",
   "id": "e5f2d315-3b06-456e-9bd3-7aacf942e986",
   "metadata": {},
   "source": [
    "Ans :Learning algorithm that relies on a similarity measure to make predictions is instance-based algorithm."
   ]
  },
  {
   "cell_type": "markdown",
   "id": "19fcedf2-ad77-4bc6-89ff-253a0a061101",
   "metadata": {},
   "source": [
    "12.What's the difference between a model parameter and a hyperparameter in a learning algorithm?"
   ]
  },
  {
   "cell_type": "raw",
   "id": "df52d44f-c112-4583-8973-b97c1dad4bfe",
   "metadata": {},
   "source": [
    "Ans :\n",
    "    In brief, Model parameters are internal to the model and estimated from data automatically, whereas Hyperparameters are set manually and are used in the optimization of the model and help in estimating the model parameters.\n",
    "    Parameters are essential for making prediction where  as Hyperparameters are essential for optimizing the model.\n",
    "    Parameters  are specified or estimated while training the model where as hyperparameters  are set before the beginning of the training of the model.\n",
    "    The values of parameters can be estimated by the optimization algorithms, such as Gradient Descent where as \tThe values of hyperparameters can be estimated by hyperparameter tuning."
   ]
  },
  {
   "cell_type": "markdown",
   "id": "3fbc4860-7ff5-4cb7-8fcc-5007dd108948",
   "metadata": {},
   "source": [
    "13.What are the criteria that model-based learning algorithms look for? What is the most popular method they use to achieve success? What method do they use to make predictions?\n"
   ]
  },
  {
   "cell_type": "raw",
   "id": "ae311796-91f0-4d09-bc4d-95046e3325d8",
   "metadata": {},
   "source": [
    "Ans :Model based learning algorithm search for the optimal value of parameters in a model that will give the best results for the new instances. We often use a cost function or similar to determine what the parameter value has to be in order to minimize the function."
   ]
  },
  {
   "cell_type": "markdown",
   "id": "24f7b4ed-64e1-4224-a17c-3dc59b4336b1",
   "metadata": {},
   "source": [
    "14: 14.Can you name four of the most important Machine Learning challenges?"
   ]
  },
  {
   "cell_type": "code",
   "execution_count": null,
   "id": "7ce7d61b-7a55-415b-8349-060029e9076d",
   "metadata": {},
   "outputs": [],
   "source": [
    "ANS :1:Poor quality of Data: \n",
    "        Data plays very importatant role in model building .If we provide good data to machine learning algorithmns it predicts the proper and appropriate output.\n",
    "        one of the major chalenge faced by ML engineers is that they dont get good data every time they have to make suitable for training models.\n",
    "        \n",
    "        2:Underfitting of Training data :\n",
    "            This process occurs when data is unable to establish an accurate relationship between input and output variables. \n",
    "            It simply means trying to fit in undersized jeans. \n",
    "            It signifies the data is too simple to establish a precise relationship. \n",
    "            To overcome this issue:\n",
    "\n",
    "        Maximize the training time\n",
    "        Enhance the complexity of the model\n",
    "        Add more features to the data\n",
    "        Reduce regular parameters\n",
    "        Increasing the training time of model\n",
    "        \n",
    "        3: Overfitting of Training Data\n",
    "        Overfitting refers to a machine learning model trained with a massive amount of data that negatively affect its performance. \n",
    "        It is like trying to fit in Oversized jeans.\n",
    "        Unfortunately, this is one of the significant issues faced by machine learning professionals.\n",
    "        This means that the algorithm is trained with noisy and biased data, which will affect its overall performance. \n",
    "        Let’s understand this with the help of an example. \n",
    "        Let’s consider a model trained to differentiate between a cat, a rabbit, a dog, and a tiger. \n",
    "        The training data contains 1000 cats, 1000 dogs, 1000 tigers, and 4000 Rabbits. \n",
    "        Then there is a considerable probability that it will identify the cat as a rabbit. \n",
    "        In this example, we had a vast amount of data, but it was biased; hence the prediction was negatively affected. \n",
    "        \n",
    "        4. Machine Learning is a Complex Process\n",
    "\n",
    "        The machine learning industry is young and is continuously changing. \n",
    "        Rapid hit and trial experiments are being carried on. The process is transforming, and hence there are high chances of error which makes the learning complex. \n",
    "        It includes analyzing the data, removing data bias, training data, applying complex mathematical calculations, and a lot more. \n",
    "        Hence it is a really complicated process which is another big challenge for Machine learning professionals.\n",
    "    "
   ]
  },
  {
   "cell_type": "markdown",
   "id": "db1d4fe3-ccaf-42b9-88ee-33e3e86cf59b",
   "metadata": {},
   "source": [
    "15:What happens if the model performs well on the training data but fails to generalize the results to new situations? Can you think of three different options?"
   ]
  },
  {
   "cell_type": "raw",
   "id": "abe1b6a9-df5a-4e0f-aced-67f34fab9076",
   "metadata": {},
   "source": [
    "Ans :If the model performs poorly to new instances, then it has overfitted on the training data. To solve this, we can do any of the following three:\n",
    "\n",
    "    Get more data\n",
    "    Implement a simpler model\n",
    "    Eliminate outliers or noise from the existing data set.\n"
   ]
  },
  {
   "cell_type": "markdown",
   "id": "6f5829be-ac4e-4bfe-9554-180de84877e1",
   "metadata": {},
   "source": [
    "\n",
    "16.What exactly is a test set, and why would you need one?\n"
   ]
  },
  {
   "cell_type": "raw",
   "id": "1677335a-6efd-48fe-a9cc-273a829c18ff",
   "metadata": {},
   "source": [
    "ANS :Test set is a set to test your model (fit using training data) to see how it performs.Test set is necessary to determine how good (or bad) a model performs."
   ]
  },
  {
   "cell_type": "markdown",
   "id": "81bbda7c-627e-457f-a04d-e0afbb3ff5ec",
   "metadata": {},
   "source": [
    "17:What is a validation set's purpose?"
   ]
  },
  {
   "cell_type": "raw",
   "id": "0d05a57f-3bbc-4bb4-a227-3dd5f139fc1a",
   "metadata": {},
   "source": [
    "ANS :Validation set is a set used to compare between different training models."
   ]
  },
  {
   "cell_type": "markdown",
   "id": "9060221a-8d5b-43f9-bae7-c3b09aefdbaa",
   "metadata": {},
   "source": [
    "18.What precisely is the train-dev kit, when will you need it, how do you put it to use ?"
   ]
  },
  {
   "cell_type": "code",
   "execution_count": null,
   "id": "2c1fb97c-e8ad-45d6-905c-8f14125d9ed0",
   "metadata": {},
   "outputs": [],
   "source": [
    "ANS :the model will perform for specifi sets of data."
   ]
  }
 ],
 "metadata": {
  "kernelspec": {
   "display_name": "Python 3 (ipykernel)",
   "language": "python",
   "name": "python3"
  },
  "language_info": {
   "codemirror_mode": {
    "name": "ipython",
    "version": 3
   },
   "file_extension": ".py",
   "mimetype": "text/x-python",
   "name": "python",
   "nbconvert_exporter": "python",
   "pygments_lexer": "ipython3",
   "version": "3.10.6"
  }
 },
 "nbformat": 4,
 "nbformat_minor": 5
}
